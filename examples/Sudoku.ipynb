{
 "cells": [
  {
   "cell_type": "code",
   "execution_count": 1,
   "metadata": {},
   "outputs": [],
   "source": [
    "import torch\n",
    "import torch.nn as nn\n",
    "import torch.nn.functional as F\n",
    "from torch.utils.data import TensorDataset\n",
    "torch.cuda.set_device(1)"
   ]
  },
  {
   "cell_type": "code",
   "execution_count": 2,
   "metadata": {},
   "outputs": [],
   "source": [
    "import numpy as np\n",
    "import matplotlib.pyplot as plt\n",
    "%matplotlib inline\n",
    "\n",
    "from matplotlib import pyplot as plt\n",
    "from collections import defaultdict\n",
    "\n",
    "class PlotHelper():\n",
    "    def __init__(self):\n",
    "        self.reset()\n",
    "\n",
    "    def reset(self):\n",
    "        self._f = None\n",
    "        self._ax = None\n",
    "        self.kvals = defaultdict(list)\n",
    "\n",
    "    def add(self, **kval):\n",
    "        for k, v in kval.items():\n",
    "            self.kvals[k].append(v)\n",
    "\n",
    "    @property\n",
    "    def fig(self):\n",
    "        if self._f is None:\n",
    "            self.new()\n",
    "        return self._f\n",
    "\n",
    "    @property\n",
    "    def ax(self):\n",
    "        if self._ax is None:\n",
    "            self.new()\n",
    "        return self._ax\n",
    "\n",
    "    def new(self):\n",
    "        self._f, self._ax = plt.subplots(1,1)\n",
    "        plt.ion()\n",
    "        self.fig.show()\n",
    "\n",
    "    def show(self):\n",
    "        names = []\n",
    "        self.ax.clear()\n",
    "        for k, v in self.kvals.items():\n",
    "            names.append(k)\n",
    "            self.ax.plot(v)\n",
    "        self.ax.legend(names)\n",
    "        self.fig.canvas.draw()"
   ]
  },
  {
   "cell_type": "code",
   "execution_count": 3,
   "metadata": {},
   "outputs": [],
   "source": [
    "class SudokuSolver(nn.Module):\n",
    "    def __init__(self, board_size):\n",
    "        super().__init__()\n",
    "        self.board_size = board_size\n",
    "        \n",
    "        prev_size = board_size\n",
    "        sizes = [512] * 10 + [board_size]\n",
    "        \n",
    "        convolutions = []\n",
    "        for size in sizes:\n",
    "            convolutions.append(nn.Conv2d(prev_size, size, kernel_size=3, padding=1))\n",
    "            prev_size = size\n",
    "        \n",
    "        self.convolutions = nn.ModuleList(convolutions)\n",
    "        \n",
    "    def __call__(self, X):\n",
    "        \n",
    "        for i in range(len(self.convolutions) - 1):\n",
    "            X = F.relu(self.convolutions[i](X))\n",
    "        X = self.convolutions[-1](X)\n",
    "        \n",
    "        return X.permute(0,2,3,1)"
   ]
  },
  {
   "cell_type": "code",
   "execution_count": 4,
   "metadata": {},
   "outputs": [],
   "source": [
    "def process_inputs(X):\n",
    "    is_input = X.sum(dim=3, keepdim=True)\n",
    "    \n",
    "    X = X.view(X.size(0), -1)\n",
    "#     Y = Y.view(Y.size(0), -1)\n",
    "    is_input = is_input.view(is_input.size(0), -1)\n",
    "    \n",
    "    return is_input"
   ]
  },
  {
   "cell_type": "code",
   "execution_count": 5,
   "metadata": {},
   "outputs": [],
   "source": [
    "def show_sudoku(X):\n",
    "    return (torch.argmax(X, 2) + 1) * (X.sum(2).long())"
   ]
  },
  {
   "cell_type": "code",
   "execution_count": 6,
   "metadata": {},
   "outputs": [],
   "source": [
    "def isvalid_sudoku(X):\n",
    "    return all([len(X[:, i].unique()) == 9 for i in range(9)])"
   ]
  },
  {
   "cell_type": "code",
   "execution_count": 7,
   "metadata": {},
   "outputs": [],
   "source": [
    "with open('sudoku/features.pt', 'rb') as f:\n",
    "    X = torch.load(f) # Shape: NxHxWxC \n",
    "    \n",
    "with open('sudoku/labels.pt', 'rb') as f:\n",
    "    Y = torch.load(f)\n",
    "    \n",
    "is_input = process_inputs(X)"
   ]
  },
  {
   "cell_type": "code",
   "execution_count": 8,
   "metadata": {},
   "outputs": [
    {
     "name": "stdout",
     "output_type": "stream",
     "text": [
      "tensor([[6, 7, 0, 0, 0, 0, 0, 0, 5],\n",
      "        [0, 0, 3, 0, 4, 0, 0, 8, 2],\n",
      "        [0, 4, 0, 0, 0, 5, 1, 3, 6],\n",
      "        [0, 0, 0, 7, 3, 0, 0, 9, 0],\n",
      "        [3, 0, 4, 2, 0, 6, 0, 7, 0],\n",
      "        [0, 0, 1, 0, 9, 0, 6, 0, 0],\n",
      "        [5, 0, 9, 0, 0, 8, 0, 0, 0],\n",
      "        [0, 0, 0, 9, 5, 0, 2, 0, 8],\n",
      "        [0, 0, 0, 1, 2, 7, 4, 0, 0]])\n"
     ]
    }
   ],
   "source": [
    "# Input\n",
    "print(show_sudoku(X[0])) # Shape of X_in: (BxHxWxC)"
   ]
  },
  {
   "cell_type": "code",
   "execution_count": 9,
   "metadata": {},
   "outputs": [
    {
     "name": "stdout",
     "output_type": "stream",
     "text": [
      "tensor([[6, 7, 8, 3, 1, 2, 9, 4, 5],\n",
      "        [1, 5, 3, 6, 4, 9, 7, 8, 2],\n",
      "        [9, 4, 2, 8, 7, 5, 1, 3, 6],\n",
      "        [2, 6, 5, 7, 3, 1, 8, 9, 4],\n",
      "        [3, 9, 4, 2, 8, 6, 5, 7, 1],\n",
      "        [7, 8, 1, 5, 9, 4, 6, 2, 3],\n",
      "        [5, 2, 9, 4, 6, 8, 3, 1, 7],\n",
      "        [4, 1, 7, 9, 5, 3, 2, 6, 8],\n",
      "        [8, 3, 6, 1, 2, 7, 4, 5, 9]])\n"
     ]
    }
   ],
   "source": [
    "# Groundtruth\n",
    "print(show_sudoku(Y[0]))"
   ]
  },
  {
   "cell_type": "code",
   "execution_count": 10,
   "metadata": {},
   "outputs": [],
   "source": [
    "import sys\n",
    "sys.path.append(\"..\")\n",
    "\n",
    "\n",
    "import torch.optim as optim\n",
    "from pytorch_constraints.constraint import constraint\n",
    "from pytorch_constraints.sampling_solver import WeightedSamplingSolver\n",
    "\n",
    "model = SudokuSolver(9).cuda()\n",
    "sudoku_constraint = constraint(isvalid_sudoku, WeightedSamplingSolver(num_samples=1000))\n",
    "optimizer = optim.Adam(model.parameters(), lr=0.0001)"
   ]
  },
  {
   "cell_type": "code",
   "execution_count": null,
   "metadata": {},
   "outputs": [
    {
     "name": "stderr",
     "output_type": "stream",
     "text": [
      " 75%|███████▌  | 75/100 [02:20<00:47,  1.90s/it]"
     ]
    }
   ],
   "source": [
    "from tqdm import tqdm\n",
    "\n",
    "X = X.permute(0,3,1,2).cuda() # Shape: (NxHxWxC) -> (NxCxHxW)\n",
    "Y = Y[0].cuda()\n",
    "is_input = is_input[0].cuda()\n",
    "\n",
    "plot_loss = PlotHelper()\n",
    "\n",
    "for i in tqdm(range(100)):\n",
    "    optimizer.zero_grad()\n",
    "    \n",
    "    output = model(X[:1])\n",
    "    \n",
    "    loss = F.cross_entropy(output.view(-1,9), Y.argmax(dim=2).view(-1), reduction='none') * is_input\n",
    "    closs = sudoku_constraint(output)\n",
    "    \n",
    "    total_loss = loss.sum() + closs\n",
    "    \n",
    "    plot_loss.add(loss=loss.sum().data, closs=closs.data)\n",
    "    total_loss.backward()\n",
    "    optimizer.step()\n",
    "    \n",
    "plot_loss.show()"
   ]
  },
  {
   "cell_type": "markdown",
   "metadata": {},
   "source": [
    "### Model prediction:"
   ]
  },
  {
   "cell_type": "code",
   "execution_count": null,
   "metadata": {
    "scrolled": true
   },
   "outputs": [],
   "source": [
    "output = model(X[:1])\n",
    "print(output[0].argmax(dim=2) + 1)"
   ]
  },
  {
   "cell_type": "markdown",
   "metadata": {},
   "source": [
    "### Groundtruth:"
   ]
  },
  {
   "cell_type": "code",
   "execution_count": null,
   "metadata": {},
   "outputs": [],
   "source": [
    "Y.argmax(dim=2) + 1"
   ]
  },
  {
   "cell_type": "code",
   "execution_count": null,
   "metadata": {},
   "outputs": [],
   "source": []
  },
  {
   "cell_type": "code",
   "execution_count": null,
   "metadata": {},
   "outputs": [],
   "source": []
  },
  {
   "cell_type": "code",
   "execution_count": null,
   "metadata": {},
   "outputs": [],
   "source": [
    "isvalid_sudoku(output[0].argmax(dim=2)+1)"
   ]
  },
  {
   "cell_type": "code",
   "execution_count": null,
   "metadata": {},
   "outputs": [],
   "source": []
  },
  {
   "cell_type": "code",
   "execution_count": null,
   "metadata": {},
   "outputs": [],
   "source": [
    "print(show_sudoku(X_in[0]))"
   ]
  },
  {
   "cell_type": "code",
   "execution_count": null,
   "metadata": {},
   "outputs": [],
   "source": [
    "X_in = X_in.permute(0,3,1,2)"
   ]
  },
  {
   "cell_type": "code",
   "execution_count": null,
   "metadata": {},
   "outputs": [],
   "source": [
    "Out = SudokuSolver(9)(X_in[:1])"
   ]
  },
  {
   "cell_type": "code",
   "execution_count": null,
   "metadata": {},
   "outputs": [],
   "source": [
    "Out = Out.permute(0,2,3,1)"
   ]
  },
  {
   "cell_type": "code",
   "execution_count": null,
   "metadata": {},
   "outputs": [],
   "source": [
    "Out = Out.permute(0,3,1,2)"
   ]
  },
  {
   "cell_type": "code",
   "execution_count": null,
   "metadata": {},
   "outputs": [],
   "source": [
    "show_sudoku(Out[0])"
   ]
  },
  {
   "cell_type": "code",
   "execution_count": null,
   "metadata": {},
   "outputs": [],
   "source": [
    "print(show_sudoku(Y_in[0]))"
   ]
  },
  {
   "cell_type": "code",
   "execution_count": null,
   "metadata": {},
   "outputs": [],
   "source": [
    "Y_in[0]\n",
    "soln = show_sudoku(Y_in[0])"
   ]
  },
  {
   "cell_type": "code",
   "execution_count": null,
   "metadata": {},
   "outputs": [],
   "source": [
    "all([len(soln[:, i].unique()) == 9 for i in range(9)])"
   ]
  },
  {
   "cell_type": "code",
   "execution_count": null,
   "metadata": {},
   "outputs": [],
   "source": [
    "len(soln[0,:].unique()) == len(soln[0,:])"
   ]
  },
  {
   "cell_type": "code",
   "execution_count": null,
   "metadata": {},
   "outputs": [],
   "source": [
    "len(soln[:3, :3].unique()) == len(soln[0,:])"
   ]
  },
  {
   "cell_type": "code",
   "execution_count": null,
   "metadata": {},
   "outputs": [],
   "source": [
    "len(soln[:,1].unique()) == len(soln[0,:])"
   ]
  },
  {
   "cell_type": "code",
   "execution_count": null,
   "metadata": {},
   "outputs": [],
   "source": []
  }
 ],
 "metadata": {
  "kernelspec": {
   "display_name": "Python 3",
   "language": "python",
   "name": "python3"
  },
  "language_info": {
   "codemirror_mode": {
    "name": "ipython",
    "version": 3
   },
   "file_extension": ".py",
   "mimetype": "text/x-python",
   "name": "python",
   "nbconvert_exporter": "python",
   "pygments_lexer": "ipython3",
   "version": "3.7.7"
  }
 },
 "nbformat": 4,
 "nbformat_minor": 4
}
