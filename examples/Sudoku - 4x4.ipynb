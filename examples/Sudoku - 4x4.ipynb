{
 "cells": [
  {
   "cell_type": "code",
   "execution_count": 1,
   "metadata": {},
   "outputs": [
    {
     "data": {
      "text/plain": [
       "<torch._C.Generator at 0x7f77ac1708d0>"
      ]
     },
     "execution_count": 1,
     "metadata": {},
     "output_type": "execute_result"
    }
   ],
   "source": [
    "import torch\n",
    "import torch.nn as nn\n",
    "import torch.nn.functional as F\n",
    "from torch.utils.data import TensorDataset\n",
    "torch.cuda.set_device(0)\n",
    "torch.manual_seed(4)"
   ]
  },
  {
   "cell_type": "code",
   "execution_count": 2,
   "metadata": {},
   "outputs": [],
   "source": [
    "import numpy as np\n",
    "import matplotlib.pyplot as plt\n",
    "%matplotlib inline\n",
    "\n",
    "from matplotlib import pyplot as plt\n",
    "from collections import defaultdict\n",
    "\n",
    "class PlotHelper():\n",
    "    def __init__(self):\n",
    "        self.reset()\n",
    "\n",
    "    def reset(self):\n",
    "        self._f = None\n",
    "        self._ax = None\n",
    "        self.kvals = defaultdict(list)\n",
    "\n",
    "    def add(self, **kval):\n",
    "        for k, v in kval.items():\n",
    "            self.kvals[k].append(v)\n",
    "\n",
    "    @property\n",
    "    def fig(self):\n",
    "        if self._f is None:\n",
    "            self.new()\n",
    "        return self._f\n",
    "\n",
    "    @property\n",
    "    def ax(self):\n",
    "        if self._ax is None:\n",
    "            self.new()\n",
    "        return self._ax\n",
    "\n",
    "    def new(self):\n",
    "        self._f, self._ax = plt.subplots(1,1)\n",
    "        plt.ion()\n",
    "        self.fig.show()\n",
    "\n",
    "    def show(self):\n",
    "        names = []\n",
    "        self.ax.clear()\n",
    "        for k, v in self.kvals.items():\n",
    "            names.append(k)\n",
    "            self.ax.plot(v)\n",
    "        self.ax.legend(names)\n",
    "        self.fig.canvas.draw()"
   ]
  },
  {
   "cell_type": "code",
   "execution_count": 3,
   "metadata": {},
   "outputs": [],
   "source": [
    "class SudokuSolver(nn.Module):\n",
    "    def __init__(self, board_size):\n",
    "        super().__init__()\n",
    "        self.W = torch.nn.Parameter(torch.rand((1,4,4,4)))\n",
    "        \n",
    "    def __call__(self, X):\n",
    "        \n",
    "        return self.W"
   ]
  },
  {
   "cell_type": "code",
   "execution_count": 4,
   "metadata": {},
   "outputs": [],
   "source": [
    "def process_inputs(X):\n",
    "    is_input = X.sum(dim=3, keepdim=True)\n",
    "    \n",
    "    X = X.view(X.size(0), -1)\n",
    "    is_input = is_input.view(is_input.size(0), -1)\n",
    "    \n",
    "    return is_input"
   ]
  },
  {
   "cell_type": "code",
   "execution_count": 5,
   "metadata": {},
   "outputs": [],
   "source": [
    "def backward_hook(self, grad_input, grad_out):\n",
    "    import pdb; pdb.set_trace()"
   ]
  },
  {
   "cell_type": "code",
   "execution_count": 6,
   "metadata": {},
   "outputs": [],
   "source": [
    "def show_sudoku(X):\n",
    "    return (torch.argmax(X, 2) + 1) * (X.sum(2).long())"
   ]
  },
  {
   "cell_type": "code",
   "execution_count": 7,
   "metadata": {},
   "outputs": [],
   "source": [
    "def isvalid_sudoku_row(X):\n",
    "    return len(X.unique()) == 4"
   ]
  },
  {
   "cell_type": "code",
   "execution_count": 8,
   "metadata": {},
   "outputs": [],
   "source": [
    "X= torch.tensor([[0, 3, 4, 0],\n",
    "                 [4, 0, 0, 2],\n",
    "                 [1, 0, 0, 3],\n",
    "                 [0, 2, 1, 0]\n",
    "                 ])\n",
    "\n",
    "Y= torch.tensor([[2, 3, 4, 1],\n",
    "                 [4, 1, 3, 2],\n",
    "                 [1, 4, 2, 3],\n",
    "                 [3, 2, 1, 4]\n",
    "                 ])\n",
    "\n",
    "X_ = torch.zeros((4,4,4))\n",
    "for i in range(4):\n",
    "    for j in range(4):\n",
    "        if X[i][j].item() > 0:\n",
    "            X_[i][j][X[i][j].item() - 1] = 1        \n",
    "            \n",
    "Y_ = torch.zeros((4,4,4))\n",
    "for i in range(4):\n",
    "    for j in range(4):\n",
    "        if Y[i][j].item() > 0:\n",
    "            Y_[i][j][Y[i][j].item() - 1] = 1\n",
    "            \n",
    "X = X_.unsqueeze(0)\n",
    "Y = Y_.unsqueeze(0)\n",
    "\n",
    "is_input = process_inputs(X)"
   ]
  },
  {
   "cell_type": "code",
   "execution_count": 9,
   "metadata": {},
   "outputs": [
    {
     "name": "stdout",
     "output_type": "stream",
     "text": [
      "tensor([[0, 3, 4, 0],\n",
      "        [4, 0, 0, 2],\n",
      "        [1, 0, 0, 3],\n",
      "        [0, 2, 1, 0]])\n"
     ]
    }
   ],
   "source": [
    "# Input\n",
    "print(show_sudoku(X[0])) # Shape of X_in: (BxHxWxC)"
   ]
  },
  {
   "cell_type": "code",
   "execution_count": 10,
   "metadata": {},
   "outputs": [
    {
     "name": "stdout",
     "output_type": "stream",
     "text": [
      "tensor([[2, 3, 4, 1],\n",
      "        [4, 1, 3, 2],\n",
      "        [1, 4, 2, 3],\n",
      "        [3, 2, 1, 4]])\n"
     ]
    }
   ],
   "source": [
    "# Groundtruth\n",
    "print(show_sudoku(Y[0]))"
   ]
  },
  {
   "cell_type": "code",
   "execution_count": 11,
   "metadata": {},
   "outputs": [],
   "source": [
    "import sys\n",
    "sys.path.append(\"..\")\n",
    "\n",
    "\n",
    "import torch.optim as optim\n",
    "from pylon.constraint import constraint\n",
    "from pylon.sampling_solver import WeightedSamplingSolver\n",
    "\n",
    "model = SudokuSolver(4)\n",
    "optimizer = optim.SGD(model.parameters(), lr=1.0)\n",
    "\n",
    "row_constraint = constraint(isvalid_sudoku_row, WeightedSamplingSolver(num_samples=3000))"
   ]
  },
  {
   "cell_type": "code",
   "execution_count": 12,
   "metadata": {},
   "outputs": [],
   "source": [
    "from tqdm import tqdm\n",
    "\n",
    "input = show_sudoku(X[0])\n",
    "X = X\n",
    "Y = Y[0]\n",
    "is_input = is_input[0]    "
   ]
  },
  {
   "cell_type": "code",
   "execution_count": 13,
   "metadata": {},
   "outputs": [
    {
     "name": "stderr",
     "output_type": "stream",
     "text": [
      "100%|██████████| 50/50 [02:10<00:00,  2.62s/it]\n"
     ]
    }
   ],
   "source": [
    "plot_loss = PlotHelper()\n",
    "for epoch in tqdm(range(50)):\n",
    "    row_losses = []\n",
    "    col_losses = []\n",
    "    sqr_losses = []\n",
    "\n",
    "    optimizer.zero_grad()\n",
    "\n",
    "    output = model(X[:1])\n",
    "    loss = F.cross_entropy(output.view(-1,4), Y.argmax(dim=2).view(-1), reduction='none') * is_input\n",
    "    \n",
    "    for i in range(0, 4):\n",
    "        row_losses += [row_constraint(output[:, i])]\n",
    "        col_losses += [row_constraint(output[:, :, i])]\n",
    "\n",
    "    for i in range(0, 4, 2):\n",
    "        for j in range(0, 4, 2):\n",
    "            sqr_losses += [row_constraint(output[:, i:i+2, j:j+2].reshape(1,4,4))]\n",
    "            \n",
    "    row_losses = torch.stack(row_losses)\n",
    "    col_losses = torch.stack(col_losses)\n",
    "    sqr_losses = torch.stack(sqr_losses)\n",
    "    \n",
    "    row_multipliers = row_losses / (row_losses.sum().data + col_losses.sum().data + sqr_losses.sum().data)\n",
    "    col_multipliers = col_losses / (row_losses.sum().data + col_losses.sum().data + sqr_losses.sum().data)\n",
    "    sqr_multipliers = sqr_losses / (row_losses.sum().data + col_losses.sum().data + sqr_losses.sum().data)\n",
    "    \n",
    "    row_loss = (row_losses * row_multipliers).sum()\n",
    "    col_loss = (col_losses * col_multipliers).sum()\n",
    "    sqr_loss = (sqr_losses * sqr_multipliers).sum()\n",
    "    \n",
    "    total_loss = loss.sum() + row_loss + col_loss + sqr_loss\n",
    "    recon_loss = (output[0].argmax(dim =-1) != Y.argmax(dim=-1)).sum()\n",
    "    \n",
    "    plot_loss.add(loss=loss.mean().data, row_loss=row_loss.data, col_loss=col_loss.data, sqr_loss=sqr_loss.data, recon_loss = recon_loss)\n",
    "\n",
    "    total_loss.backward()\n",
    "\n",
    "    optimizer.step()"
   ]
  },
  {
   "cell_type": "code",
   "execution_count": 14,
   "metadata": {},
   "outputs": [
    {
     "data": {
      "image/png": "[encoded data removed]",
      "text/plain": [
       "<Figure size 432x288 with 1 Axes>"
      ]
     },
     "metadata": {
      "needs_background": "light"
     },
     "output_type": "display_data"
    }
   ],
   "source": [
    "plot_loss.show()"
   ]
  },
  {
   "cell_type": "code",
   "execution_count": 15,
   "metadata": {},
   "outputs": [
    {
     "name": "stdout",
     "output_type": "stream",
     "text": [
      "tensor([[2, 3, 4, 1],\n",
      "        [4, 1, 3, 2],\n",
      "        [1, 4, 2, 3],\n",
      "        [3, 2, 1, 4]])\n"
     ]
    },
    {
     "data": {
      "text/plain": [
       "<matplotlib.colorbar.Colorbar at 0x7f7728462f10>"
      ]
     },
     "execution_count": 15,
     "metadata": {},
     "output_type": "execute_result"
    },
    {
     "data": {
      "image/png": "[encoded data removed]",
      "text/plain": [
       "<Figure size 288x288 with 2 Axes>"
      ]
     },
     "metadata": {
      "needs_background": "light"
     },
     "output_type": "display_data"
    }
   ],
   "source": [
    "output = model(X[:1])\n",
    "print((output[0].argmax(dim =-1) + 1).data)\n",
    "heatmap = plt.matshow((output[0].argmax(dim =-1) == Y.argmax(dim=-1)), cmap=plt.cm.Blues)\n",
    "plt.colorbar(heatmap)"
   ]
  },
  {
   "cell_type": "code",
   "execution_count": 16,
   "metadata": {},
   "outputs": [
    {
     "name": "stdout",
     "output_type": "stream",
     "text": [
      "tensor([[2, 3, 4, 1],\n",
      "        [4, 1, 3, 2],\n",
      "        [1, 4, 2, 3],\n",
      "        [3, 2, 1, 4]])\n"
     ]
    }
   ],
   "source": [
    "print(show_sudoku(Y))"
   ]
  }
 ],
 "metadata": {
  "kernelspec": {
   "display_name": "Python 3",
   "language": "python",
   "name": "python3"
  },
  "language_info": {
   "codemirror_mode": {
    "name": "ipython",
    "version": 3
   },
   "file_extension": ".py",
   "mimetype": "text/x-python",
   "name": "python",
   "nbconvert_exporter": "python",
   "pygments_lexer": "ipython3",
   "version": "3.7.6"
  }
 },
 "nbformat": 4,
 "nbformat_minor": 4
}
