{
 "cells": [
  {
   "cell_type": "code",
   "execution_count": 1,
   "metadata": {},
   "outputs": [
    {
     "data": {
      "text/plain": [
       "<torch._C.Generator at 0x7f02f00ae890>"
      ]
     },
     "execution_count": 1,
     "metadata": {},
     "output_type": "execute_result"
    }
   ],
   "source": [
    "import torch\n",
    "import torch.nn as nn\n",
    "import torch.nn.functional as F\n",
    "from torch.utils.data import TensorDataset\n",
    "torch.cuda.set_device(0)\n",
    "torch.manual_seed(4)"
   ]
  },
  {
   "cell_type": "code",
   "execution_count": 2,
   "metadata": {},
   "outputs": [],
   "source": [
    "import numpy as np\n",
    "import matplotlib.pyplot as plt\n",
    "%matplotlib inline\n",
    "\n",
    "from matplotlib import pyplot as plt\n",
    "from collections import defaultdict\n",
    "\n",
    "class PlotHelper():\n",
    "    def __init__(self):\n",
    "        self.reset()\n",
    "\n",
    "    def reset(self):\n",
    "        self._f = None\n",
    "        self._ax = None\n",
    "        self.kvals = defaultdict(list)\n",
    "\n",
    "    def add(self, **kval):\n",
    "        for k, v in kval.items():\n",
    "            self.kvals[k].append(v)\n",
    "\n",
    "    @property\n",
    "    def fig(self):\n",
    "        if self._f is None:\n",
    "            self.new()\n",
    "        return self._f\n",
    "\n",
    "    @property\n",
    "    def ax(self):\n",
    "        if self._ax is None:\n",
    "            self.new()\n",
    "        return self._ax\n",
    "\n",
    "    def new(self):\n",
    "        self._f, self._ax = plt.subplots(1,1)\n",
    "        plt.ion()\n",
    "        self.fig.show()\n",
    "\n",
    "    def show(self):\n",
    "        names = []\n",
    "        self.ax.clear()\n",
    "        for k, v in self.kvals.items():\n",
    "            names.append(k)\n",
    "            self.ax.plot(v)\n",
    "        self.ax.legend(names)\n",
    "        self.fig.canvas.draw()"
   ]
  },
  {
   "cell_type": "code",
   "execution_count": 3,
   "metadata": {},
   "outputs": [],
   "source": [
    "class SudokuSolver(nn.Module):\n",
    "    def __init__(self, board_size):\n",
    "        super().__init__()\n",
    "        self.W = torch.nn.Parameter(torch.rand((1,9,9,9)))\n",
    "        \n",
    "    def __call__(self, X):\n",
    "        return self.W"
   ]
  },
  {
   "cell_type": "code",
   "execution_count": 4,
   "metadata": {},
   "outputs": [],
   "source": [
    "def process_inputs(X):\n",
    "    is_input = X.sum(dim=3, keepdim=True)\n",
    "    \n",
    "    X = X.view(X.size(0), -1)\n",
    "#     Y = Y.view(Y.size(0), -1)\n",
    "    is_input = is_input.view(is_input.size(0), -1)\n",
    "    \n",
    "    return is_input"
   ]
  },
  {
   "cell_type": "code",
   "execution_count": 5,
   "metadata": {},
   "outputs": [],
   "source": [
    "def show_sudoku(X):\n",
    "    return (torch.argmax(X, 2) + 1) * (X.sum(2).long())"
   ]
  },
  {
   "cell_type": "code",
   "execution_count": 6,
   "metadata": {},
   "outputs": [],
   "source": [
    "def isvalid_sudoku(X):\n",
    "    return all([len(X[:, i].unique()) == 9 for i in range(9)])"
   ]
  },
  {
   "cell_type": "code",
   "execution_count": 7,
   "metadata": {},
   "outputs": [],
   "source": [
    "def partial_sudoku(X):\n",
    "    return any([len(X[:, i].unique()) == 9 for i in range(9)])"
   ]
  },
  {
   "cell_type": "code",
   "execution_count": 8,
   "metadata": {},
   "outputs": [],
   "source": [
    "# def get_all_constraint():\n",
    "#     for i in range(10):\n",
    "#         yield lambda X, i=i: len(X[:, i].unique()) == 9\n",
    "\n",
    "def isvalid_sudoku_row_01(X):\n",
    "    return len(X[:, 0].unique()) == 9 and len(X[:, 1].unique()) == 9\n",
    "\n",
    "def isvalid_sudoku_row(X):\n",
    "    return len(X.unique()) == 9\n",
    "\n",
    "def isvalid_sudoku_col(X):\n",
    "    return len(X[:, :, 0].unique()) == 9\n",
    "def isvalid_sudoku_col_1(X):\n",
    "    return len(X[:, :, 1].unique()) == 9\n",
    "def isvalid_sudoku_col_2(X):\n",
    "    return len(X[:, :, 2].unique()) == 9\n",
    "def isvalid_sudoku_col_3(X):\n",
    "    return len(X[:, :, 3].unique()) == 9\n",
    "def isvalid_sudoku_col_4(X):\n",
    "    return len(X[:, :, 4].unique()) == 9\n",
    "def isvalid_sudoku_col_5(X):\n",
    "    return len(X[:, :, 5].unique()) == 9\n",
    "def isvalid_sudoku_col_6(X):\n",
    "    return len(X[:, :, 6].unique()) == 9\n",
    "def isvalid_sudoku_col_7(X):\n",
    "    return len(X[:, :, 7].unique()) == 9\n",
    "def isvalid_sudoku_col_8(X):\n",
    "    return len(X[:, :, 8].unique()) == 9\n",
    "\n",
    "def isvalid_sudoku_sqr_0(X):\n",
    "    return len(X[:, 0:3, 0:3].unique()) == 9\n",
    "def isvalid_sudoku_sqr_1(X):\n",
    "    return len(X[:, 0:3, 3:6].unique()) == 9\n",
    "def isvalid_sudoku_sqr_2(X):\n",
    "    return len(X[:, 0:3, 6:9].unique()) == 9\n",
    "def isvalid_sudoku_sqr_3(X):\n",
    "    return len(X[:, 3:6, 0:3].unique()) == 9\n",
    "def isvalid_sudoku_sqr_4(X):\n",
    "    return len(X[:, 3:6, 3:6].unique()) == 9\n",
    "def isvalid_sudoku_sqr_5(X):\n",
    "    return len(X[:, 3:6, 6:9].unique()) == 9\n",
    "def isvalid_sudoku_sqr_6(X):\n",
    "    return len(X[:, 6:9, 0:3].unique()) == 9\n",
    "def isvalid_sudoku_sqr_7(X):\n",
    "    return len(X[:, 6:9, 3:6].unique()) == 9\n",
    "def isvalid_sudoku_sqr_8(X):\n",
    "    return len(X[:, 6:9, 6:9].unique()) == 9\n",
    "\n",
    "def isvalid_sudoku_row_col(row, col):\n",
    "    val = len(row.unique()) == 9 and len(col.unique()) == 9 and (row[0][6] == col[0][2])\n",
    "    return val\n",
    "\n",
    "def isvalid_sudoku_row_sqr(row, sqr):\n",
    "    val = len(row.unique()) == 9 and len(sqr.unique()) == 9 and (row[0][6:] == sqr[0][6:]).all()\n",
    "    return val\n",
    "\n",
    "def isvalid_sudoku_col_sqr(col, sqr):\n",
    "    val = len(col.unique()) == 9 and len(sqr.unique()) == 9  and (col[0][:3] == sqr[0][[0, 3, 6]]).all()\n",
    "    return val"
   ]
  },
  {
   "cell_type": "code",
   "execution_count": 9,
   "metadata": {},
   "outputs": [],
   "source": [
    "X= torch.tensor([[6, 4, 0, 1, 0, 0, 8, 5, 9],\n",
    "                 [8, 9, 5, 6, 0, 4, 2, 7, 0],\n",
    "                 [0, 0, 0, 9, 0, 5, 0, 3, 4],\n",
    "                 [0, 3, 6, 0, 4, 8, 9, 2, 0],\n",
    "                 [9, 0, 2, 3, 0, 7, 0, 6, 5],\n",
    "                 [0, 7, 4, 0, 9, 6, 0, 8, 0],\n",
    "                 [4, 6, 0, 0, 2, 3, 5, 1, 8], #5, 0, 8\n",
    "                 [0, 0, 7, 0, 0, 9, 0, 4, 0],\n",
    "                 [3, 0, 8, 4, 0, 1, 0, 0, 0],\n",
    "                 ])\n",
    "\n",
    "Y= torch.tensor([[6, 4, 3, 1, 7, 2, 8, 5, 9],\n",
    "                 [8, 9, 5, 6, 3, 4, 2, 7, 1],\n",
    "                 [7, 2, 1, 9, 8, 5, 6, 3, 4],\n",
    "                 [1, 3, 6, 5, 4, 8, 9, 2, 7],\n",
    "                 [9, 8, 2, 3, 1, 7, 4, 6, 5],\n",
    "                 [5, 7, 4, 2, 9, 6, 1, 8, 3],\n",
    "                 [4, 6, 9, 7, 2, 3, 5, 1, 8],\n",
    "                 [2, 1, 7, 8, 5, 9, 3, 4, 6],\n",
    "                 [3, 5, 8, 4, 6, 1, 7, 9, 2],\n",
    "                 ])"
   ]
  },
  {
   "cell_type": "code",
   "execution_count": 10,
   "metadata": {},
   "outputs": [],
   "source": [
    "X_ = torch.zeros((9,9,9))\n",
    "for i in range(9):\n",
    "    for j in range(9):\n",
    "        if X[i][j].item() > 0:\n",
    "            X_[i][j][X[i][j].item() - 1] = 1        \n",
    "            \n",
    "Y_ = torch.zeros((9,9,9))\n",
    "for i in range(9):\n",
    "    for j in range(9):\n",
    "        if Y[i][j].item() > 0:\n",
    "            Y_[i][j][Y[i][j].item() - 1] = 1\n",
    "            \n",
    "X = X_.unsqueeze(0)\n",
    "Y = Y_\n",
    "\n",
    "is_input = process_inputs(X)"
   ]
  },
  {
   "cell_type": "code",
   "execution_count": 11,
   "metadata": {},
   "outputs": [
    {
     "name": "stdout",
     "output_type": "stream",
     "text": [
      "tensor([[6, 4, 0, 1, 0, 0, 8, 5, 9],\n",
      "        [8, 9, 5, 6, 0, 4, 2, 7, 0],\n",
      "        [0, 0, 0, 9, 0, 5, 0, 3, 4],\n",
      "        [0, 3, 6, 0, 4, 8, 9, 2, 0],\n",
      "        [9, 0, 2, 3, 0, 7, 0, 6, 5],\n",
      "        [0, 7, 4, 0, 9, 6, 0, 8, 0],\n",
      "        [4, 6, 0, 0, 2, 3, 5, 1, 8],\n",
      "        [0, 0, 7, 0, 0, 9, 0, 4, 0],\n",
      "        [3, 0, 8, 4, 0, 1, 0, 0, 0]])\n"
     ]
    }
   ],
   "source": [
    "# Input\n",
    "print(show_sudoku(X[0])) # Shape of X_in: (BxHxWxC)"
   ]
  },
  {
   "cell_type": "code",
   "execution_count": 12,
   "metadata": {},
   "outputs": [
    {
     "name": "stdout",
     "output_type": "stream",
     "text": [
      "tensor([[6, 4, 3, 1, 7, 2, 8, 5, 9],\n",
      "        [8, 9, 5, 6, 3, 4, 2, 7, 1],\n",
      "        [7, 2, 1, 9, 8, 5, 6, 3, 4],\n",
      "        [1, 3, 6, 5, 4, 8, 9, 2, 7],\n",
      "        [9, 8, 2, 3, 1, 7, 4, 6, 5],\n",
      "        [5, 7, 4, 2, 9, 6, 1, 8, 3],\n",
      "        [4, 6, 9, 7, 2, 3, 5, 1, 8],\n",
      "        [2, 1, 7, 8, 5, 9, 3, 4, 6],\n",
      "        [3, 5, 8, 4, 6, 1, 7, 9, 2]])\n"
     ]
    }
   ],
   "source": [
    "# Groundtruth\n",
    "print(show_sudoku(Y))"
   ]
  },
  {
   "cell_type": "code",
   "execution_count": 13,
   "metadata": {},
   "outputs": [],
   "source": [
    "import sys\n",
    "sys.path.append(\"..\")\n",
    "\n",
    "\n",
    "import torch.optim as optim\n",
    "from pylon.constraint import constraint\n",
    "from pylon.sampling_solver import WeightedSamplingSolver\n",
    "\n",
    "model = SudokuSolver(9)\n",
    "# model.convolutions[-1].register_backward_hook(backward_hook)\n",
    "sudoku_constraint = constraint(isvalid_sudoku, WeightedSamplingSolver(num_samples=1000))\n",
    "sudoku_partial_constraint = constraint(partial_sudoku, WeightedSamplingSolver(num_samples=1000))\n",
    "optimizer = optim.SGD(model.parameters(), lr=1.0)\n",
    "# optimizer = optim.Adam(model.parameters(), lr=0.01)\n",
    "\n",
    "row01_constraint = constraint(isvalid_sudoku_row_01, WeightedSamplingSolver(num_samples=200))\n",
    "\n",
    "row_constraint = constraint(isvalid_sudoku_row, WeightedSamplingSolver(num_samples=2000))\n",
    "row_col_constraint = constraint(isvalid_sudoku_row_col, WeightedSamplingSolver(num_samples=10000))\n",
    "row_sqr_constraint = constraint(isvalid_sudoku_row_sqr, WeightedSamplingSolver(num_samples=10000))\n",
    "col_sqr_constraint = constraint(isvalid_sudoku_col_sqr, WeightedSamplingSolver(num_samples=10000))"
   ]
  },
  {
   "cell_type": "code",
   "execution_count": 14,
   "metadata": {},
   "outputs": [],
   "source": [
    "from tqdm import tqdm\n",
    "\n",
    "input = show_sudoku(X[0])\n",
    "X = X\n",
    "is_input = is_input[0]    "
   ]
  },
  {
   "cell_type": "code",
   "execution_count": 15,
   "metadata": {},
   "outputs": [],
   "source": [
    "# with torch.no_grad():\n",
    "#     model.W[0][2,6][5] = 0.1338\n",
    "#     model.W[0][2,6][0] = 0.0638"
   ]
  },
  {
   "cell_type": "code",
   "execution_count": 16,
   "metadata": {},
   "outputs": [
    {
     "name": "stderr",
     "output_type": "stream",
     "text": [
      "100%|██████████| 90/90 [05:52<00:00,  3.91s/it]\n"
     ]
    }
   ],
   "source": [
    "plot_loss = PlotHelper()\n",
    "for epoch in tqdm(range(90)):\n",
    "    row_losses = []\n",
    "    col_losses = []\n",
    "    sqr_losses = []\n",
    "\n",
    "    optimizer.zero_grad()\n",
    "    \n",
    "    output = model(X[:1])\n",
    "    loss = F.cross_entropy(output.view(-1,9), Y.argmax(dim=2).view(-1), reduction='none') * is_input\n",
    "    \n",
    "    for i in range(0, 9):\n",
    "        row_losses += [row_constraint(output[:, i], input=(input[i,:],))]\n",
    "        col_losses += [row_constraint(output[:, :, i], input=(input[:,i],))]\n",
    "\n",
    "    for i in range(0, 9, 3):\n",
    "        for j in range(0, 9, 3):\n",
    "            sqr_losses += [row_constraint(output[:, i:i+3, j:j+3].reshape(1,9,9), input=(input[i:i+3, j:j+3].reshape(9),))]\n",
    "    \n",
    "    row_losses = torch.stack(row_losses)\n",
    "    col_losses = torch.stack(col_losses)\n",
    "    sqr_losses = torch.stack(sqr_losses)\n",
    "    \n",
    "    row_multipliers = row_losses / (row_losses.sum() + col_losses.sum() + sqr_losses.sum())\n",
    "    col_multipliers = col_losses / (row_losses.sum() + col_losses.sum() + sqr_losses.sum())\n",
    "    sqr_multipliers = sqr_losses / (row_losses.sum() + col_losses.sum() + sqr_losses.sum())\n",
    "    \n",
    "    row_loss = (row_losses * row_multipliers).sum()\n",
    "    col_loss = (col_losses * col_multipliers).sum()\n",
    "    sqr_loss = (sqr_losses * sqr_multipliers).sum()\n",
    "    \n",
    "    total_loss = loss.sum() + row_loss + col_loss + sqr_loss\n",
    "    recon_loss = (output[0].argmax(dim =-1) != Y.argmax(dim=-1)).sum()\n",
    "    \n",
    "    plot_loss.add(loss=loss.mean().data, row_loss=row_loss.data, col_loss=col_loss.data, sqr_loss=sqr_loss.data, recon_loss = recon_loss)\n",
    "\n",
    "    total_loss.backward()\n",
    "\n",
    "    optimizer.step()"
   ]
  },
  {
   "cell_type": "code",
   "execution_count": 17,
   "metadata": {},
   "outputs": [
    {
     "data": {
      "image/png": "[encoded data removed]",
      "text/plain": [
       "<Figure size 432x288 with 1 Axes>"
      ]
     },
     "metadata": {
      "needs_background": "light"
     },
     "output_type": "display_data"
    }
   ],
   "source": [
    "plot_loss.show()"
   ]
  },
  {
   "cell_type": "code",
   "execution_count": 21,
   "metadata": {
    "scrolled": false
   },
   "outputs": [
    {
     "name": "stdout",
     "output_type": "stream",
     "text": [
      "tensor([[6, 4, 3, 1, 7, 2, 8, 5, 9],\n",
      "        [8, 9, 5, 6, 3, 4, 2, 7, 1],\n",
      "        [7, 2, 1, 9, 8, 5, 6, 3, 4],\n",
      "        [1, 3, 6, 5, 4, 8, 9, 2, 7],\n",
      "        [9, 8, 2, 3, 1, 7, 4, 6, 5],\n",
      "        [5, 7, 4, 2, 9, 6, 1, 8, 3],\n",
      "        [4, 6, 9, 7, 2, 3, 5, 1, 8],\n",
      "        [2, 1, 7, 8, 5, 9, 3, 4, 6],\n",
      "        [3, 5, 8, 4, 6, 1, 7, 9, 2]])\n"
     ]
    },
    {
     "data": {
      "text/plain": [
       "<matplotlib.colorbar.Colorbar at 0x7f02607ec650>"
      ]
     },
     "execution_count": 21,
     "metadata": {},
     "output_type": "execute_result"
    },
    {
     "data": {
      "image/png": "[encoded data removed]",
      "text/plain": [
       "<Figure size 288x288 with 2 Axes>"
      ]
     },
     "metadata": {
      "needs_background": "light"
     },
     "output_type": "display_data"
    }
   ],
   "source": [
    "output = model(X[:1])\n",
    "print((output[0].argmax(dim =-1) + 1).data)\n",
    "heatmap = plt.matshow((output[0].argmax(dim =-1) == Y.argmax(dim=-1)), cmap=plt.cm.Blues, vmin=0, vmax=1)\n",
    "plt.colorbar(heatmap)"
   ]
  },
  {
   "cell_type": "code",
   "execution_count": 20,
   "metadata": {},
   "outputs": [
    {
     "name": "stdout",
     "output_type": "stream",
     "text": [
      "tensor([[6, 4, 3, 1, 7, 2, 8, 5, 9],\n",
      "        [8, 9, 5, 6, 3, 4, 2, 7, 1],\n",
      "        [7, 2, 1, 9, 8, 5, 6, 3, 4],\n",
      "        [1, 3, 6, 5, 4, 8, 9, 2, 7],\n",
      "        [9, 8, 2, 3, 1, 7, 4, 6, 5],\n",
      "        [5, 7, 4, 2, 9, 6, 1, 8, 3],\n",
      "        [4, 6, 9, 7, 2, 3, 5, 1, 8],\n",
      "        [2, 1, 7, 8, 5, 9, 3, 4, 6],\n",
      "        [3, 5, 8, 4, 6, 1, 7, 9, 2]])\n"
     ]
    }
   ],
   "source": [
    "print(show_sudoku(Y))"
   ]
  }
 ],
 "metadata": {
  "kernelspec": {
   "display_name": "Python 3",
   "language": "python",
   "name": "python3"
  },
  "language_info": {
   "codemirror_mode": {
    "name": "ipython",
    "version": 3
   },
   "file_extension": ".py",
   "mimetype": "text/x-python",
   "name": "python",
   "nbconvert_exporter": "python",
   "pygments_lexer": "ipython3",
   "version": "3.7.6"
  }
 },
 "nbformat": 4,
 "nbformat_minor": 4
}
