{
 "cells": [
  {
   "cell_type": "code",
   "execution_count": 1,
   "metadata": {},
   "outputs": [],
   "source": [
    "import torch\n",
    "import pytest\n",
    "import sys\n",
    "import torch.nn.functional as F\n",
    "\n",
    "sys.path.append('..')\n",
    "\n",
    "from pylon.tnorm_solver import *\n",
    "from pylon.lazy_tensor import LazyTensor, ConstShapedLazyTensor\n",
    "from pylon.shaped_lazy_solver import ProductTNormSolver, GodelTNormSolver, LukasiewiczTNormSolver \n",
    "from pylon.lazy_circuit_solver import SemanticLossCircuitSolver\n",
    "\n",
    "from pylon.constraint import constraint\n",
    "sys.setrecursionlimit(1500)"
   ]
  },
  {
   "cell_type": "code",
   "execution_count": 2,
   "metadata": {},
   "outputs": [],
   "source": [
    "class Net(torch.nn.Module):\n",
    "    '''Neural network with a single input (fixed) and two categorical outputs.'''\n",
    "\n",
    "    def __init__(self, num_labels, w=None):\n",
    "        super().__init__()\n",
    "        self.num_labels = num_labels\n",
    "        if w is not None:\n",
    "            self.w = torch.nn.Parameter(\n",
    "                torch.tensor(w).float().view(\n",
    "                    self.num_labels*2, 1))\n",
    "        else:\n",
    "            self.w = torch.nn.Parameter(\n",
    "                torch.rand(self.num_labels*2, 1))\n",
    "\n",
    "    def forward(self, x):\n",
    "        return torch.matmul(self.w, x).view(2, self.num_labels)\n",
    "\n",
    "net_multi = Net(3)\n",
    "net_binary = Net(2)\n",
    "    \n",
    "def train(net, constraint=None, epoch=100):\n",
    "    x = torch.tensor([1.0])\n",
    "    y = torch.tensor([0, 1])\n",
    "    y0 = F.softmax(net(x), dim=-1)\n",
    "    opt = torch.optim.SGD(net.parameters(), lr=0.1)\n",
    "\n",
    "    for _ in range(epoch):\n",
    "        opt.zero_grad()\n",
    "        y_logit = net(x)\n",
    "        loss = F.cross_entropy(y_logit[1:], y[1:])\n",
    "        if constraint is not None:\n",
    "            loss += constraint(y_logit)\n",
    "        loss.backward()\n",
    "        opt.step()\n",
    "    return net, y0\n",
    " \n",
    "    \n",
    "a = {\"key\": 1}\n",
    "def xor(y):\n",
    "    return (y[0].logical_and(y[a['key']].logical_not())).logical_or(y[0].logical_not().logical_and(y[a['key']]))\n",
    "    return (y[0] and not y[a['key']]) or (not y[0] and y[a['key']])\n",
    "\n",
    "    \n",
    "def test_xor_binary(net_binary, solver):    \n",
    "    num_tries = 10\n",
    "    success = 0\n",
    "    for i in range(num_tries):\n",
    "        cons = constraint(xor, solver)\n",
    "\n",
    "        net, y0 = train(net_binary, cons)\n",
    "        x = torch.tensor([1.0])\n",
    "        y = F.softmax(net(x), dim=-1)\n",
    "\n",
    "        if y[0, 0] > 0.75 and y[0, 1] < 0.25:\n",
    "            success += 1\n",
    "        assert y[1, 0] < 0.25 and y[1, 1] > 0.75\n",
    "    print(f'success {success} num_tries {num_tries}')\n",
    "    assert success == num_tries\n",
    "\n",
    "def test_eq_multi(net_multi, solver):\n",
    "    num_tries = 5  # since it's random\n",
    "    success = 0\n",
    "    for i in range(num_tries):\n",
    "        cons = constraint(lambda y: y[0] == y[1], solver)\n",
    "        net, y0 = train(net_multi, cons)\n",
    "        x = torch.tensor([1.0])\n",
    "        y = F.softmax(net(x), dim=-1)\n",
    "        if y[0, 1] > 0.8:\n",
    "            success += 1\n",
    "        assert y[1, 1] > 0.9\n",
    "    print(f'success {success} num_tries {num_tries}')\n",
    "    assert success == num_tries    "
   ]
  },
  {
   "cell_type": "code",
   "execution_count": 3,
   "metadata": {},
   "outputs": [
    {
     "name": "stdout",
     "output_type": "stream",
     "text": [
      "y_logit tensor([[0.4477, 0.1499],\n",
      "        [0.8375, 0.3147]], grad_fn=<ViewBackward>)\n"
     ]
    },
    {
     "data": {
      "text/plain": [
       "tensor([[0.5739, 0.4261],\n",
       "        [0.6278, 0.3722]], grad_fn=<SoftmaxBackward>)"
      ]
     },
     "execution_count": 3,
     "metadata": {},
     "output_type": "execute_result"
    }
   ],
   "source": [
    "x = torch.tensor([1.0])\n",
    "y_logit = net_binary(x)\n",
    "print(\"y_logit\", y_logit)\n",
    "torch.softmax(y_logit, dim=-1) "
   ]
  },
  {
   "cell_type": "code",
   "execution_count": 4,
   "metadata": {},
   "outputs": [
    {
     "name": "stdout",
     "output_type": "stream",
     "text": [
      "success 5 num_tries 5\n"
     ]
    }
   ],
   "source": [
    "solvers = [SemanticLossCircuitSolver()]\n",
    "#            GodelTNormSolver(),LukasiewiczTNormSolver(),ProductTNormSolver()]\n",
    "for solver in solvers: \n",
    "    test_eq_multi(net_multi, solver)"
   ]
  },
  {
   "cell_type": "code",
   "execution_count": 5,
   "metadata": {},
   "outputs": [
    {
     "name": "stdout",
     "output_type": "stream",
     "text": [
      "success 10 num_tries 10\n"
     ]
    }
   ],
   "source": [
    "solvers = [SemanticLossCircuitSolver()]\n",
    "#            GodelTNormSolver(),LukasiewiczTNormSolver(),ProductTNormSolver()]\n",
    "for solver in solvers: \n",
    "    test_xor_binary(net_binary, solver)"
   ]
  },
  {
   "cell_type": "code",
   "execution_count": 6,
   "metadata": {},
   "outputs": [],
   "source": [
    "import numpy as np\n",
    "import matplotlib.pyplot as plt\n",
    "%matplotlib inline\n",
    "\n",
    "from matplotlib import pyplot as plt\n",
    "from collections import defaultdict\n",
    "\n",
    "class PlotHelper():\n",
    "    def __init__(self):\n",
    "        self.reset()\n",
    "\n",
    "    def reset(self):\n",
    "        self._f = None\n",
    "        self._ax = None\n",
    "        self.kvals = defaultdict(list)\n",
    "\n",
    "    def add(self, **kval):\n",
    "        for k, v in kval.items():\n",
    "            self.kvals[k].append(v)\n",
    "\n",
    "    @property\n",
    "    def fig(self):\n",
    "        if self._f is None:\n",
    "            self.new()\n",
    "        return self._f\n",
    "\n",
    "    @property\n",
    "    def ax(self):\n",
    "        if self._ax is None:\n",
    "            self.new()\n",
    "        return self._ax\n",
    "\n",
    "    def new(self):\n",
    "        self._f, self._ax = plt.subplots(1,1)\n",
    "        plt.ion()\n",
    "        self.fig.show()\n",
    "\n",
    "    def show(self):\n",
    "        names = []\n",
    "        self.ax.clear()\n",
    "        for k, v in self.kvals.items():\n",
    "            names.append(k)\n",
    "            self.ax.plot(v)\n",
    "        self.ax.legend(names)\n",
    "        self.fig.canvas.draw()"
   ]
  },
  {
   "cell_type": "code",
   "execution_count": 7,
   "metadata": {},
   "outputs": [],
   "source": [
    "from itertools import chain\n",
    "\n",
    "\n",
    "class Example_Net(torch.nn.Module):\n",
    "    def __init__(self, w=None):\n",
    "        super().__init__()\n",
    "        if w is not None:\n",
    "            self.w = torch.nn.Parameter(torch.tensor(w).float().view(6, 1))\n",
    "        else:\n",
    "            self.w = torch.nn.Parameter(torch.rand(6, 1))\n",
    "\n",
    "    def forward(self, x):\n",
    "        return torch.matmul(self.w, x).view(3, 2)\n"
   ]
  },
  {
   "cell_type": "code",
   "execution_count": 8,
   "metadata": {},
   "outputs": [],
   "source": [
    "from pylon.brute_force_solver import *\n",
    "\n",
    "def get_sampling_solvers(num_samples):\n",
    "    return [\n",
    "        SatisfactionBruteForceSolver(), ViolationBruteForceSolver(),]\n",
    "\n",
    "def test_bruteforce_xor_binary(net_binary):\n",
    "    solvers = get_sampling_solvers(num_samples=10)\n",
    "    for solver in solvers:\n",
    "        num_tries = 5  # since it's random\n",
    "        success = 0\n",
    "        for i in range(num_tries):\n",
    "            cons = constraint(xor, solver)\n",
    "\n",
    "            net, y0 = train(net_binary, cons)\n",
    "            x = torch.tensor([1.0])\n",
    "            y = F.softmax(net(x), dim=-1)\n",
    "\n",
    "            if y[0, 0] > 0.75 and y[0, 1] < 0.25:\n",
    "                success += 1\n",
    "            assert y[1, 0] < 0.25 and y[1, 1] > 0.75\n",
    "\n",
    "        print(f'success {success} num_tries {num_tries}')\n",
    "        assert success == num_tries\n",
    "\n",
    "# test_bruteforce_xor_binary(net_binary)"
   ]
  },
  {
   "cell_type": "code",
   "execution_count": 9,
   "metadata": {},
   "outputs": [],
   "source": [
    "def experiment(func_ab):\n",
    "    neta = Example_Net()\n",
    "    netb = Example_Net()\n",
    "    x = torch.tensor([1.])\n",
    "    y = torch.tensor([0, 0, 1])\n",
    "    opt = torch.optim.SGD(chain(neta.parameters(), netb.parameters()), lr=0.1)\n",
    "    plot = PlotHelper()\n",
    "    plot_loss = PlotHelper()\n",
    "    cons = constraint(func_ab, ProductTNormSolver())\n",
    "\n",
    "    ya_logit = neta(x)\n",
    "    yb_logit = netb(x)\n",
    "    oloss = F.cross_entropy(ya_logit[2:], y[2:])\n",
    "    closs = cons(ya_logit, yb_logit)\n",
    "    loss = oloss + closs\n",
    "    loss.backward()\n",
    "    ya_prob = torch.softmax(ya_logit, dim=-1)\n",
    "    yb_prob = torch.softmax(yb_logit, dim=-1)\n",
    "    \n",
    "    num_samples = 500\n",
    "\n",
    "    for _ in range(num_samples):\n",
    "        ya_logit = neta(x)\n",
    "        yb_logit = netb(x)\n",
    "        oloss = F.cross_entropy(ya_logit[2:], y[2:])\n",
    "        closs = cons(ya_logit, yb_logit)\n",
    "        loss = oloss + closs\n",
    "        loss.backward()\n",
    "        ya_prob = torch.softmax(ya_logit, dim=-1)\n",
    "        yb_prob = torch.softmax(yb_logit, dim=-1)\n",
    "        plot.add(\n",
    "            ya1=ya_prob[1,1].data, ya2=ya_prob[2,1].data, \n",
    "            yb1=yb_prob[1,1].data, yb2=yb_prob[2,1].data)\n",
    "        plot_loss.add(oloss=oloss.data, closs=closs.data, loss=loss.data)\n",
    "        opt.step()\n",
    "\n",
    "    plot.show()\n",
    "    plot_loss.show()"
   ]
  },
  {
   "cell_type": "code",
   "execution_count": 10,
   "metadata": {},
   "outputs": [
    {
     "name": "stderr",
     "output_type": "stream",
     "text": [
      "/Users/thy/research/pytorch-constraints/env/lib/python3.7/site-packages/ipykernel_launcher.py:36: UserWarning: Matplotlib is currently using module://ipykernel.pylab.backend_inline, which is a non-GUI backend, so cannot show the figure.\n"
     ]
    },
    {
     "data": {
      "image/png": "[encoded data removed]",
      "text/plain": [
       "<Figure size 432x288 with 1 Axes>"
      ]
     },
     "metadata": {
      "needs_background": "light"
     },
     "output_type": "display_data"
    },
    {
     "data": {
      "image/png": "[encoded data removed]",
      "text/plain": [
       "<Figure size 432x288 with 1 Axes>"
      ]
     },
     "metadata": {
      "needs_background": "light"
     },
     "output_type": "display_data"
    }
   ],
   "source": [
    "#\n",
    "def and_ab_0(a, b):\n",
    "    return (a[2]==b[1]).logical_and(b[1]==b[2]).logical_and(b[2]==a[1])\n",
    "\n",
    "experiment(and_ab_0)"
   ]
  },
  {
   "cell_type": "code",
   "execution_count": 13,
   "metadata": {},
   "outputs": [
    {
     "name": "stdout",
     "output_type": "stream",
     "text": [
      "LazyTensor:logical_or\n",
      "  LazyTensor:logical_not\n",
      "    LazyTensor:eq\n",
      "      ConstShapedLazyTensor: index=1\n",
      "      0\n",
      "\n",
      "\n",
      "  LazyTensor:eq\n",
      "    ConstShapedLazyTensor: index=0\n",
      "    1\n",
      "\n",
      "\n"
     ]
    },
    {
     "ename": "RuntimeError",
     "evalue": "bool value of Tensor with more than one value is ambiguous",
     "output_type": "error",
     "traceback": [
      "\u001b[0;31m---------------------------------------------------------------------------\u001b[0m",
      "\u001b[0;31mRuntimeError\u001b[0m                              Traceback (most recent call last)",
      "\u001b[0;32m<ipython-input-13-015462e8c2e9>\u001b[0m in \u001b[0;36m<module>\u001b[0;34m\u001b[0m\n\u001b[1;32m     15\u001b[0m \u001b[0myb_logit\u001b[0m \u001b[0;34m=\u001b[0m \u001b[0mnetb\u001b[0m\u001b[0;34m(\u001b[0m\u001b[0mx\u001b[0m\u001b[0;34m)\u001b[0m\u001b[0;34m\u001b[0m\u001b[0;34m\u001b[0m\u001b[0m\n\u001b[1;32m     16\u001b[0m \u001b[0moloss\u001b[0m \u001b[0;34m=\u001b[0m \u001b[0mF\u001b[0m\u001b[0;34m.\u001b[0m\u001b[0mcross_entropy\u001b[0m\u001b[0;34m(\u001b[0m\u001b[0mya_logit\u001b[0m\u001b[0;34m[\u001b[0m\u001b[0;36m2\u001b[0m\u001b[0;34m:\u001b[0m\u001b[0;34m]\u001b[0m\u001b[0;34m,\u001b[0m \u001b[0my\u001b[0m\u001b[0;34m[\u001b[0m\u001b[0;36m2\u001b[0m\u001b[0;34m:\u001b[0m\u001b[0;34m]\u001b[0m\u001b[0;34m)\u001b[0m\u001b[0;34m\u001b[0m\u001b[0;34m\u001b[0m\u001b[0m\n\u001b[0;32m---> 17\u001b[0;31m \u001b[0mcloss\u001b[0m \u001b[0;34m=\u001b[0m \u001b[0mcons\u001b[0m\u001b[0;34m(\u001b[0m\u001b[0mya_logit\u001b[0m\u001b[0;34m,\u001b[0m \u001b[0myb_logit\u001b[0m\u001b[0;34m)\u001b[0m\u001b[0;34m\u001b[0m\u001b[0;34m\u001b[0m\u001b[0m\n\u001b[0m\u001b[1;32m     18\u001b[0m \u001b[0mloss\u001b[0m \u001b[0;34m=\u001b[0m \u001b[0moloss\u001b[0m \u001b[0;34m+\u001b[0m \u001b[0mcloss\u001b[0m\u001b[0;34m\u001b[0m\u001b[0;34m\u001b[0m\u001b[0m\n\u001b[1;32m     19\u001b[0m \u001b[0mloss\u001b[0m\u001b[0;34m.\u001b[0m\u001b[0mbackward\u001b[0m\u001b[0;34m(\u001b[0m\u001b[0;34m)\u001b[0m\u001b[0;34m\u001b[0m\u001b[0;34m\u001b[0m\u001b[0m\n",
      "\u001b[0;32m~/research/pytorch-constraints/pylon/constraint.py\u001b[0m in \u001b[0;36m__call__\u001b[0;34m(self, *logits, **kwargs)\u001b[0m\n\u001b[1;32m     21\u001b[0m     \u001b[0;32mdef\u001b[0m \u001b[0m__call__\u001b[0m\u001b[0;34m(\u001b[0m\u001b[0mself\u001b[0m\u001b[0;34m,\u001b[0m \u001b[0;34m*\u001b[0m\u001b[0mlogits\u001b[0m\u001b[0;34m,\u001b[0m \u001b[0;34m**\u001b[0m\u001b[0mkwargs\u001b[0m\u001b[0;34m)\u001b[0m\u001b[0;34m:\u001b[0m\u001b[0;34m\u001b[0m\u001b[0;34m\u001b[0m\u001b[0m\n\u001b[1;32m     22\u001b[0m         \u001b[0;34m'''Return the differentiable loss for the constraint given the logits of the variables.'''\u001b[0m\u001b[0;34m\u001b[0m\u001b[0;34m\u001b[0m\u001b[0m\n\u001b[0;32m---> 23\u001b[0;31m         \u001b[0;32mreturn\u001b[0m \u001b[0mself\u001b[0m\u001b[0;34m.\u001b[0m\u001b[0mloss\u001b[0m\u001b[0;34m(\u001b[0m\u001b[0;34m*\u001b[0m\u001b[0mlogits\u001b[0m\u001b[0;34m,\u001b[0m \u001b[0;34m**\u001b[0m\u001b[0mkwargs\u001b[0m\u001b[0;34m)\u001b[0m\u001b[0;34m\u001b[0m\u001b[0;34m\u001b[0m\u001b[0m\n\u001b[0m\u001b[1;32m     24\u001b[0m \u001b[0;34m\u001b[0m\u001b[0m\n\u001b[1;32m     25\u001b[0m \u001b[0;34m\u001b[0m\u001b[0m\n",
      "\u001b[0;32m~/research/pytorch-constraints/pylon/constraint.py\u001b[0m in \u001b[0;36mloss\u001b[0;34m(self, *logits, **kwargs)\u001b[0m\n\u001b[1;32m     12\u001b[0m \u001b[0;34m\u001b[0m\u001b[0m\n\u001b[1;32m     13\u001b[0m     \u001b[0;32mdef\u001b[0m \u001b[0mloss\u001b[0m\u001b[0;34m(\u001b[0m\u001b[0mself\u001b[0m\u001b[0;34m,\u001b[0m \u001b[0;34m*\u001b[0m\u001b[0mlogits\u001b[0m\u001b[0;34m,\u001b[0m \u001b[0;34m**\u001b[0m\u001b[0mkwargs\u001b[0m\u001b[0;34m)\u001b[0m\u001b[0;34m:\u001b[0m\u001b[0;34m\u001b[0m\u001b[0;34m\u001b[0m\u001b[0m\n\u001b[0;32m---> 14\u001b[0;31m         \u001b[0ml\u001b[0m \u001b[0;34m=\u001b[0m \u001b[0mself\u001b[0m\u001b[0;34m.\u001b[0m\u001b[0msolver\u001b[0m\u001b[0;34m.\u001b[0m\u001b[0mloss\u001b[0m\u001b[0;34m(\u001b[0m\u001b[0;34m*\u001b[0m\u001b[0mlogits\u001b[0m\u001b[0;34m,\u001b[0m \u001b[0;34m**\u001b[0m\u001b[0mkwargs\u001b[0m\u001b[0;34m)\u001b[0m\u001b[0;34m\u001b[0m\u001b[0;34m\u001b[0m\u001b[0m\n\u001b[0m\u001b[1;32m     15\u001b[0m         \u001b[0;32mif\u001b[0m \u001b[0mlen\u001b[0m\u001b[0;34m(\u001b[0m\u001b[0ml\u001b[0m\u001b[0;34m.\u001b[0m\u001b[0mshape\u001b[0m\u001b[0;34m)\u001b[0m \u001b[0;34m==\u001b[0m \u001b[0;36m1\u001b[0m\u001b[0;34m:\u001b[0m\u001b[0;34m\u001b[0m\u001b[0;34m\u001b[0m\u001b[0m\n\u001b[1;32m     16\u001b[0m             \u001b[0ml\u001b[0m \u001b[0;34m=\u001b[0m \u001b[0ml\u001b[0m\u001b[0;34m[\u001b[0m\u001b[0;36m0\u001b[0m\u001b[0;34m]\u001b[0m\u001b[0;34m\u001b[0m\u001b[0;34m\u001b[0m\u001b[0m\n",
      "\u001b[0;32m~/research/pytorch-constraints/pylon/shaped_lazy_solver.py\u001b[0m in \u001b[0;36mloss\u001b[0;34m(self, *logits, **kwargs)\u001b[0m\n\u001b[1;32m    167\u001b[0m             \u001b[0mslt\u001b[0m \u001b[0;34m=\u001b[0m \u001b[0mself\u001b[0m\u001b[0;34m.\u001b[0m\u001b[0mcond\u001b[0m\u001b[0;34m(\u001b[0m\u001b[0;34m*\u001b[0m\u001b[0mys\u001b[0m\u001b[0;34m)\u001b[0m\u001b[0;34m\u001b[0m\u001b[0;34m\u001b[0m\u001b[0m\n\u001b[1;32m    168\u001b[0m             \u001b[0mself\u001b[0m\u001b[0;34m.\u001b[0m\u001b[0mtensor_comp\u001b[0m \u001b[0;34m=\u001b[0m \u001b[0mself\u001b[0m\u001b[0;34m.\u001b[0m\u001b[0mvisit\u001b[0m\u001b[0;34m(\u001b[0m\u001b[0mslt\u001b[0m\u001b[0;34m)\u001b[0m\u001b[0;34m\u001b[0m\u001b[0;34m\u001b[0m\u001b[0m\n\u001b[0;32m--> 169\u001b[0;31m         \u001b[0mtensor\u001b[0m \u001b[0;34m=\u001b[0m \u001b[0mself\u001b[0m\u001b[0;34m.\u001b[0m\u001b[0mtensor_comp\u001b[0m\u001b[0;34m(\u001b[0m\u001b[0mprobs\u001b[0m\u001b[0;34m)\u001b[0m\u001b[0;34m\u001b[0m\u001b[0;34m\u001b[0m\u001b[0m\n\u001b[0m\u001b[1;32m    170\u001b[0m         \u001b[0;32mreturn\u001b[0m \u001b[0;34m-\u001b[0m\u001b[0mtensor\u001b[0m\u001b[0;34m.\u001b[0m\u001b[0mlog\u001b[0m\u001b[0;34m(\u001b[0m\u001b[0;34m)\u001b[0m\u001b[0;34m\u001b[0m\u001b[0;34m\u001b[0m\u001b[0m\n\u001b[1;32m    171\u001b[0m \u001b[0;34m\u001b[0m\u001b[0m\n",
      "\u001b[0;32m~/research/pytorch-constraints/pylon/shaped_lazy_solver.py\u001b[0m in \u001b[0;36mhelper\u001b[0;34m(probs)\u001b[0m\n\u001b[1;32m    152\u001b[0m                 \u001b[0;31m# print(\"Args\", slt.args[0], slt.args[1], \"function\",\u001b[0m\u001b[0;34m\u001b[0m\u001b[0;34m\u001b[0m\u001b[0;34m\u001b[0m\u001b[0m\n\u001b[1;32m    153\u001b[0m                 \u001b[0;31m#       slt.function)\u001b[0m\u001b[0;34m\u001b[0m\u001b[0;34m\u001b[0m\u001b[0;34m\u001b[0m\u001b[0m\n\u001b[0;32m--> 154\u001b[0;31m                 \u001b[0;32mreturn\u001b[0m \u001b[0mself\u001b[0m\u001b[0;34m.\u001b[0m\u001b[0mgettnorm\u001b[0m\u001b[0;34m(\u001b[0m\u001b[0mslt\u001b[0m\u001b[0;34m.\u001b[0m\u001b[0margs\u001b[0m\u001b[0;34m,\u001b[0m \u001b[0mslt\u001b[0m\u001b[0;34m.\u001b[0m\u001b[0mfunction\u001b[0m\u001b[0;34m,\u001b[0m \u001b[0mprobs\u001b[0m\u001b[0;34m)\u001b[0m\u001b[0;34m\u001b[0m\u001b[0;34m\u001b[0m\u001b[0m\n\u001b[0m\u001b[1;32m    155\u001b[0m \u001b[0;34m\u001b[0m\u001b[0m\n\u001b[1;32m    156\u001b[0m             \u001b[0;32mexcept\u001b[0m \u001b[0mKeyError\u001b[0m\u001b[0;34m:\u001b[0m\u001b[0;34m\u001b[0m\u001b[0;34m\u001b[0m\u001b[0m\n",
      "\u001b[0;32m~/research/pytorch-constraints/pylon/shaped_lazy_solver.py\u001b[0m in \u001b[0;36mgettnorm\u001b[0;34m(self, args, function, probs)\u001b[0m\n\u001b[1;32m    173\u001b[0m \u001b[0;32mclass\u001b[0m \u001b[0mProductTNormSolver\u001b[0m\u001b[0;34m(\u001b[0m\u001b[0mTNormSolver\u001b[0m\u001b[0;34m)\u001b[0m\u001b[0;34m:\u001b[0m\u001b[0;34m\u001b[0m\u001b[0;34m\u001b[0m\u001b[0m\n\u001b[1;32m    174\u001b[0m     \u001b[0;32mdef\u001b[0m \u001b[0mgettnorm\u001b[0m\u001b[0;34m(\u001b[0m\u001b[0mself\u001b[0m\u001b[0;34m,\u001b[0m \u001b[0margs\u001b[0m\u001b[0;34m,\u001b[0m \u001b[0mfunction\u001b[0m\u001b[0;34m,\u001b[0m \u001b[0mprobs\u001b[0m\u001b[0;34m)\u001b[0m\u001b[0;34m:\u001b[0m\u001b[0;34m\u001b[0m\u001b[0;34m\u001b[0m\u001b[0m\n\u001b[0;32m--> 175\u001b[0;31m         \u001b[0mtnorm_dict\u001b[0m\u001b[0;34m,\u001b[0m \u001b[0mrv\u001b[0m\u001b[0;34m,\u001b[0m \u001b[0mlv\u001b[0m  \u001b[0;34m=\u001b[0m \u001b[0mself\u001b[0m\u001b[0;34m.\u001b[0m\u001b[0mbase_tnorm\u001b[0m\u001b[0;34m(\u001b[0m\u001b[0margs\u001b[0m\u001b[0;34m,\u001b[0m \u001b[0mfunction\u001b[0m\u001b[0;34m,\u001b[0m \u001b[0mprobs\u001b[0m\u001b[0;34m)\u001b[0m\u001b[0;34m\u001b[0m\u001b[0;34m\u001b[0m\u001b[0m\n\u001b[0m\u001b[1;32m    176\u001b[0m         return {\n\u001b[1;32m    177\u001b[0m             \u001b[0;34m**\u001b[0m\u001b[0mtnorm_dict\u001b[0m\u001b[0;34m,\u001b[0m\u001b[0;34m\u001b[0m\u001b[0;34m\u001b[0m\u001b[0m\n",
      "\u001b[0;32m~/research/pytorch-constraints/pylon/shaped_lazy_solver.py\u001b[0m in \u001b[0;36mbase_tnorm\u001b[0;34m(self, args, function, probs)\u001b[0m\n\u001b[1;32m    107\u001b[0m                             cond_arg_equal_const.logical_or(\n\u001b[1;32m    108\u001b[0m                                 cond_expr.logical_not())\n\u001b[0;32m--> 109\u001b[0;31m                             )(probs)\n\u001b[0m\u001b[1;32m    110\u001b[0m \u001b[0;34m\u001b[0m\u001b[0m\n\u001b[1;32m    111\u001b[0m                         \u001b[0;32mraise\u001b[0m \u001b[0mNotImplementedError\u001b[0m\u001b[0;34m\u001b[0m\u001b[0;34m\u001b[0m\u001b[0m\n",
      "\u001b[0;32m~/research/pytorch-constraints/pylon/shaped_lazy_solver.py\u001b[0m in \u001b[0;36mhelper\u001b[0;34m(probs)\u001b[0m\n\u001b[1;32m    152\u001b[0m                 \u001b[0;31m# print(\"Args\", slt.args[0], slt.args[1], \"function\",\u001b[0m\u001b[0;34m\u001b[0m\u001b[0;34m\u001b[0m\u001b[0;34m\u001b[0m\u001b[0m\n\u001b[1;32m    153\u001b[0m                 \u001b[0;31m#       slt.function)\u001b[0m\u001b[0;34m\u001b[0m\u001b[0;34m\u001b[0m\u001b[0;34m\u001b[0m\u001b[0m\n\u001b[0;32m--> 154\u001b[0;31m                 \u001b[0;32mreturn\u001b[0m \u001b[0mself\u001b[0m\u001b[0;34m.\u001b[0m\u001b[0mgettnorm\u001b[0m\u001b[0;34m(\u001b[0m\u001b[0mslt\u001b[0m\u001b[0;34m.\u001b[0m\u001b[0margs\u001b[0m\u001b[0;34m,\u001b[0m \u001b[0mslt\u001b[0m\u001b[0;34m.\u001b[0m\u001b[0mfunction\u001b[0m\u001b[0;34m,\u001b[0m \u001b[0mprobs\u001b[0m\u001b[0;34m)\u001b[0m\u001b[0;34m\u001b[0m\u001b[0;34m\u001b[0m\u001b[0m\n\u001b[0m\u001b[1;32m    155\u001b[0m \u001b[0;34m\u001b[0m\u001b[0m\n\u001b[1;32m    156\u001b[0m             \u001b[0;32mexcept\u001b[0m \u001b[0mKeyError\u001b[0m\u001b[0;34m:\u001b[0m\u001b[0;34m\u001b[0m\u001b[0;34m\u001b[0m\u001b[0m\n",
      "\u001b[0;32m~/research/pytorch-constraints/pylon/shaped_lazy_solver.py\u001b[0m in \u001b[0;36mgettnorm\u001b[0;34m(self, args, function, probs)\u001b[0m\n\u001b[1;32m    173\u001b[0m \u001b[0;32mclass\u001b[0m \u001b[0mProductTNormSolver\u001b[0m\u001b[0;34m(\u001b[0m\u001b[0mTNormSolver\u001b[0m\u001b[0;34m)\u001b[0m\u001b[0;34m:\u001b[0m\u001b[0;34m\u001b[0m\u001b[0;34m\u001b[0m\u001b[0m\n\u001b[1;32m    174\u001b[0m     \u001b[0;32mdef\u001b[0m \u001b[0mgettnorm\u001b[0m\u001b[0;34m(\u001b[0m\u001b[0mself\u001b[0m\u001b[0;34m,\u001b[0m \u001b[0margs\u001b[0m\u001b[0;34m,\u001b[0m \u001b[0mfunction\u001b[0m\u001b[0;34m,\u001b[0m \u001b[0mprobs\u001b[0m\u001b[0;34m)\u001b[0m\u001b[0;34m:\u001b[0m\u001b[0;34m\u001b[0m\u001b[0;34m\u001b[0m\u001b[0m\n\u001b[0;32m--> 175\u001b[0;31m         \u001b[0mtnorm_dict\u001b[0m\u001b[0;34m,\u001b[0m \u001b[0mrv\u001b[0m\u001b[0;34m,\u001b[0m \u001b[0mlv\u001b[0m  \u001b[0;34m=\u001b[0m \u001b[0mself\u001b[0m\u001b[0;34m.\u001b[0m\u001b[0mbase_tnorm\u001b[0m\u001b[0;34m(\u001b[0m\u001b[0margs\u001b[0m\u001b[0;34m,\u001b[0m \u001b[0mfunction\u001b[0m\u001b[0;34m,\u001b[0m \u001b[0mprobs\u001b[0m\u001b[0;34m)\u001b[0m\u001b[0;34m\u001b[0m\u001b[0;34m\u001b[0m\u001b[0m\n\u001b[0m\u001b[1;32m    176\u001b[0m         return {\n\u001b[1;32m    177\u001b[0m             \u001b[0;34m**\u001b[0m\u001b[0mtnorm_dict\u001b[0m\u001b[0;34m,\u001b[0m\u001b[0;34m\u001b[0m\u001b[0;34m\u001b[0m\u001b[0m\n",
      "\u001b[0;32m~/research/pytorch-constraints/pylon/shaped_lazy_solver.py\u001b[0m in \u001b[0;36mbase_tnorm\u001b[0;34m(self, args, function, probs)\u001b[0m\n\u001b[1;32m     60\u001b[0m     \u001b[0;32mdef\u001b[0m \u001b[0mbase_tnorm\u001b[0m\u001b[0;34m(\u001b[0m\u001b[0mself\u001b[0m\u001b[0;34m,\u001b[0m \u001b[0margs\u001b[0m\u001b[0;34m,\u001b[0m \u001b[0mfunction\u001b[0m\u001b[0;34m,\u001b[0m \u001b[0mprobs\u001b[0m\u001b[0;34m)\u001b[0m\u001b[0;34m:\u001b[0m\u001b[0;34m\u001b[0m\u001b[0;34m\u001b[0m\u001b[0m\n\u001b[1;32m     61\u001b[0m         \u001b[0mtnorm_dict\u001b[0m \u001b[0;34m=\u001b[0m \u001b[0;34m{\u001b[0m\u001b[0;34m}\u001b[0m\u001b[0;34m\u001b[0m\u001b[0;34m\u001b[0m\u001b[0m\n\u001b[0;32m---> 62\u001b[0;31m         \u001b[0mlv\u001b[0m \u001b[0;34m=\u001b[0m \u001b[0mself\u001b[0m\u001b[0;34m.\u001b[0m\u001b[0mvisit\u001b[0m\u001b[0;34m(\u001b[0m\u001b[0margs\u001b[0m\u001b[0;34m[\u001b[0m\u001b[0;36m0\u001b[0m\u001b[0;34m]\u001b[0m\u001b[0;34m)\u001b[0m\u001b[0;34m(\u001b[0m\u001b[0mprobs\u001b[0m\u001b[0;34m)\u001b[0m\u001b[0;34m\u001b[0m\u001b[0;34m\u001b[0m\u001b[0m\n\u001b[0m\u001b[1;32m     63\u001b[0m         \u001b[0mrv\u001b[0m \u001b[0;34m=\u001b[0m \u001b[0;32mNone\u001b[0m\u001b[0;34m\u001b[0m\u001b[0;34m\u001b[0m\u001b[0m\n\u001b[1;32m     64\u001b[0m \u001b[0;34m\u001b[0m\u001b[0m\n",
      "\u001b[0;32m~/research/pytorch-constraints/pylon/shaped_lazy_solver.py\u001b[0m in \u001b[0;36mhelper\u001b[0;34m(probs)\u001b[0m\n\u001b[1;32m    152\u001b[0m                 \u001b[0;31m# print(\"Args\", slt.args[0], slt.args[1], \"function\",\u001b[0m\u001b[0;34m\u001b[0m\u001b[0;34m\u001b[0m\u001b[0;34m\u001b[0m\u001b[0m\n\u001b[1;32m    153\u001b[0m                 \u001b[0;31m#       slt.function)\u001b[0m\u001b[0;34m\u001b[0m\u001b[0;34m\u001b[0m\u001b[0;34m\u001b[0m\u001b[0m\n\u001b[0;32m--> 154\u001b[0;31m                 \u001b[0;32mreturn\u001b[0m \u001b[0mself\u001b[0m\u001b[0;34m.\u001b[0m\u001b[0mgettnorm\u001b[0m\u001b[0;34m(\u001b[0m\u001b[0mslt\u001b[0m\u001b[0;34m.\u001b[0m\u001b[0margs\u001b[0m\u001b[0;34m,\u001b[0m \u001b[0mslt\u001b[0m\u001b[0;34m.\u001b[0m\u001b[0mfunction\u001b[0m\u001b[0;34m,\u001b[0m \u001b[0mprobs\u001b[0m\u001b[0;34m)\u001b[0m\u001b[0;34m\u001b[0m\u001b[0;34m\u001b[0m\u001b[0m\n\u001b[0m\u001b[1;32m    155\u001b[0m \u001b[0;34m\u001b[0m\u001b[0m\n\u001b[1;32m    156\u001b[0m             \u001b[0;32mexcept\u001b[0m \u001b[0mKeyError\u001b[0m\u001b[0;34m:\u001b[0m\u001b[0;34m\u001b[0m\u001b[0;34m\u001b[0m\u001b[0m\n",
      "\u001b[0;32m~/research/pytorch-constraints/pylon/shaped_lazy_solver.py\u001b[0m in \u001b[0;36mgettnorm\u001b[0;34m(self, args, function, probs)\u001b[0m\n\u001b[1;32m    173\u001b[0m \u001b[0;32mclass\u001b[0m \u001b[0mProductTNormSolver\u001b[0m\u001b[0;34m(\u001b[0m\u001b[0mTNormSolver\u001b[0m\u001b[0;34m)\u001b[0m\u001b[0;34m:\u001b[0m\u001b[0;34m\u001b[0m\u001b[0;34m\u001b[0m\u001b[0m\n\u001b[1;32m    174\u001b[0m     \u001b[0;32mdef\u001b[0m \u001b[0mgettnorm\u001b[0m\u001b[0;34m(\u001b[0m\u001b[0mself\u001b[0m\u001b[0;34m,\u001b[0m \u001b[0margs\u001b[0m\u001b[0;34m,\u001b[0m \u001b[0mfunction\u001b[0m\u001b[0;34m,\u001b[0m \u001b[0mprobs\u001b[0m\u001b[0;34m)\u001b[0m\u001b[0;34m:\u001b[0m\u001b[0;34m\u001b[0m\u001b[0;34m\u001b[0m\u001b[0m\n\u001b[0;32m--> 175\u001b[0;31m         \u001b[0mtnorm_dict\u001b[0m\u001b[0;34m,\u001b[0m \u001b[0mrv\u001b[0m\u001b[0;34m,\u001b[0m \u001b[0mlv\u001b[0m  \u001b[0;34m=\u001b[0m \u001b[0mself\u001b[0m\u001b[0;34m.\u001b[0m\u001b[0mbase_tnorm\u001b[0m\u001b[0;34m(\u001b[0m\u001b[0margs\u001b[0m\u001b[0;34m,\u001b[0m \u001b[0mfunction\u001b[0m\u001b[0;34m,\u001b[0m \u001b[0mprobs\u001b[0m\u001b[0;34m)\u001b[0m\u001b[0;34m\u001b[0m\u001b[0;34m\u001b[0m\u001b[0m\n\u001b[0m\u001b[1;32m    176\u001b[0m         return {\n\u001b[1;32m    177\u001b[0m             \u001b[0;34m**\u001b[0m\u001b[0mtnorm_dict\u001b[0m\u001b[0;34m,\u001b[0m\u001b[0;34m\u001b[0m\u001b[0;34m\u001b[0m\u001b[0m\n",
      "\u001b[0;32m~/research/pytorch-constraints/pylon/shaped_lazy_solver.py\u001b[0m in \u001b[0;36mbase_tnorm\u001b[0;34m(self, args, function, probs)\u001b[0m\n\u001b[1;32m     79\u001b[0m                     \u001b[0;31m# map torch.eq to the corresponding formula\u001b[0m\u001b[0;34m\u001b[0m\u001b[0;34m\u001b[0m\u001b[0;34m\u001b[0m\u001b[0m\n\u001b[1;32m     80\u001b[0m                     \u001b[0;32mif\u001b[0m \u001b[0ml_type\u001b[0m \u001b[0;34m==\u001b[0m \u001b[0mType\u001b[0m\u001b[0;34m.\u001b[0m\u001b[0mCONST\u001b[0m \u001b[0;32mand\u001b[0m \u001b[0mr_type\u001b[0m \u001b[0;34m==\u001b[0m \u001b[0mType\u001b[0m\u001b[0;34m.\u001b[0m\u001b[0mCONST\u001b[0m\u001b[0;34m:\u001b[0m\u001b[0;34m\u001b[0m\u001b[0;34m\u001b[0m\u001b[0m\n\u001b[0;32m---> 81\u001b[0;31m                         \u001b[0mtnorm_dict\u001b[0m\u001b[0;34m[\u001b[0m\u001b[0mtorch\u001b[0m\u001b[0;34m.\u001b[0m\u001b[0meq\u001b[0m\u001b[0;34m]\u001b[0m \u001b[0;34m=\u001b[0m \u001b[0;36m1.0\u001b[0m \u001b[0;32mif\u001b[0m \u001b[0mlv\u001b[0m \u001b[0;34m==\u001b[0m \u001b[0mrv\u001b[0m \u001b[0;32melse\u001b[0m \u001b[0;36m0.0\u001b[0m\u001b[0;34m\u001b[0m\u001b[0;34m\u001b[0m\u001b[0m\n\u001b[0m\u001b[1;32m     82\u001b[0m \u001b[0;34m\u001b[0m\u001b[0m\n\u001b[1;32m     83\u001b[0m                     \u001b[0;32mif\u001b[0m \u001b[0ml_type\u001b[0m \u001b[0;34m==\u001b[0m \u001b[0mType\u001b[0m\u001b[0;34m.\u001b[0m\u001b[0mSUB_SELECT\u001b[0m \u001b[0;32mand\u001b[0m \u001b[0mr_type\u001b[0m \u001b[0;34m==\u001b[0m \u001b[0mType\u001b[0m\u001b[0;34m.\u001b[0m\u001b[0mSUB_SELECT\u001b[0m\u001b[0;34m:\u001b[0m\u001b[0;34m\u001b[0m\u001b[0;34m\u001b[0m\u001b[0m\n",
      "\u001b[0;31mRuntimeError\u001b[0m: bool value of Tensor with more than one value is ambiguous"
     ]
    }
   ],
   "source": [
    "# equal case with cond and const\n",
    "def func_ab(a, b):\n",
    "    return a[b==0] == 1\n",
    "\n",
    "\n",
    "neta = Example_Net()\n",
    "netb = Example_Net()\n",
    "x = torch.tensor([1.0])\n",
    "y = torch.tensor([0, 0, 1])\n",
    "opt = torch.optim.SGD(chain(neta.parameters(), netb.parameters()), lr=0.1)\n",
    "plot = PlotHelper()\n",
    "plot_loss = PlotHelper()\n",
    "cons = constraint(func_ab, ProductTNormSolver())\n",
    "\n",
    "ya_logit = neta(x)\n",
    "yb_logit = netb(x)\n",
    "oloss = F.cross_entropy(ya_logit[2:], y[2:])\n",
    "closs = cons(ya_logit, yb_logit)\n",
    "loss = oloss + closs\n",
    "loss.backward()\n",
    "ya_prob = torch.softmax(ya_logit, dim=-1)\n",
    "yb_prob = torch.softmax(yb_logit, dim=-1)\n",
    "\n",
    "num_samples = 500\n",
    "\n",
    "for _ in range(num_samples):\n",
    "    ya_logit = neta(x)\n",
    "    yb_logit = netb(x)\n",
    "    oloss = F.cross_entropy(ya_logit[2:], y[2:])\n",
    "    closs = cons(ya_logit, yb_logit)\n",
    "    loss = oloss + closs\n",
    "    loss.backward()\n",
    "    ya_prob = torch.softmax(ya_logit, dim=-1)\n",
    "    yb_prob = torch.softmax(yb_logit, dim=-1)\n",
    "    plot.add(\n",
    "        ya1=ya_prob[1,1].data, ya2=ya_prob[2,1].data, \n",
    "        yb1=yb_prob[1,1].data, yb2=yb_prob[2,1].data)\n",
    "    plot_loss.add(oloss=oloss.data, closs=closs.data, loss=loss.data)\n",
    "    opt.step()\n",
    "\n",
    "plot.show()\n",
    "plot_loss.show()"
   ]
  },
  {
   "cell_type": "code",
   "execution_count": null,
   "metadata": {},
   "outputs": [],
   "source": []
  }
 ],
 "metadata": {
  "kernelspec": {
   "display_name": "Python 3",
   "language": "python",
   "name": "python3"
  },
  "language_info": {
   "codemirror_mode": {
    "name": "ipython",
    "version": 3
   },
   "file_extension": ".py",
   "mimetype": "text/x-python",
   "name": "python",
   "nbconvert_exporter": "python",
   "pygments_lexer": "ipython3",
   "version": "3.7.3"
  }
 },
 "nbformat": 4,
 "nbformat_minor": 4
}
