{
 "cells": [
  {
   "cell_type": "code",
   "execution_count": 1,
   "metadata": {},
   "outputs": [],
   "source": [
    "import numpy as np\n",
    "import matplotlib.pyplot as plt\n",
    "%matplotlib inline\n",
    "\n",
    "from matplotlib import pyplot as plt\n",
    "from collections import defaultdict\n",
    "\n",
    "class PlotHelper():\n",
    "    def __init__(self):\n",
    "        self.reset()\n",
    "\n",
    "    def reset(self):\n",
    "        self._f = None\n",
    "        self._ax = None\n",
    "        self.kvals = defaultdict(list)\n",
    "\n",
    "    def add(self, **kval):\n",
    "        for k, v in kval.items():\n",
    "            self.kvals[k].append(v)\n",
    "\n",
    "    @property\n",
    "    def fig(self):\n",
    "        if self._f is None:\n",
    "            self.new()\n",
    "        return self._f\n",
    "\n",
    "    @property\n",
    "    def ax(self):\n",
    "        if self._ax is None:\n",
    "            self.new()\n",
    "        return self._ax\n",
    "\n",
    "    def new(self):\n",
    "        self._f, self._ax = plt.subplots(1,1)\n",
    "        plt.ion()\n",
    "        self.fig.show()\n",
    "\n",
    "    def show(self):\n",
    "        names = []\n",
    "        self.ax.clear()\n",
    "        for k, v in self.kvals.items():\n",
    "            names.append(k)\n",
    "            self.ax.plot(v)\n",
    "        self.ax.legend(names)\n",
    "        self.fig.canvas.draw()"
   ]
  },
  {
   "cell_type": "code",
   "execution_count": 2,
   "metadata": {},
   "outputs": [],
   "source": [
    "from torchtext.vocab import Vocab\n",
    "from collections import Counter\n",
    "import json\n",
    "\n",
    "with open(\"conll04_test.json\") as f:\n",
    "    data = json.load(f)\n",
    "    \n",
    "tokens = []\n",
    "for datum in data:\n",
    "    tokens += datum['tokens']\n",
    "\n",
    "vocab = Vocab(Counter(tokens), vectors=\"glove.6B.100d\")"
   ]
  },
  {
   "cell_type": "code",
   "execution_count": 3,
   "metadata": {},
   "outputs": [],
   "source": [
    "ENTITY_TO_ID = {\"O\":0,\"Loc\":1, \"Org\":2, \"Peop\":3, \"Other\":4}\n",
    "REL_TO_ID = {\"*\":0, \"Work_For_arg1\":1, \"Kill_arg1\":2, \"OrgBased_In_arg1\":3, \"Live_In_arg1\":4,\n",
    "             \"Located_In_arg1\":5, \"Work_For_arg2\":6, \"Kill_arg2\":7, \"OrgBased_In_arg2\":8,\n",
    "             \"Live_In_arg2\":9, \"Located_In_arg2\":10}\n",
    "\n",
    "class DataLoader(object):\n",
    "    def __init__(self, filename, vocab, batch_size=1):\n",
    "        self.batch_size = batch_size\n",
    "        \n",
    "        with open(filename) as f:\n",
    "            data = json.load(f)\n",
    "            \n",
    "        self.data = self.preprocess(data, vocab)\n",
    "        self.data = [self.data[i: i + batch_size] for i in range(0, len(self.data), batch_size)]\n",
    "        \n",
    "    def preprocess(self, data, vocab):\n",
    "        \n",
    "        processed = []\n",
    "        for i, d in enumerate(data):\n",
    "#             print(i)\n",
    "            if i == 10:\n",
    "                break\n",
    "            tokens = to_ids([t.lower() for t in d['tokens']], vocab.stoi)\n",
    "\n",
    "            entities = ['O'] * len(tokens)\n",
    "            for e in d['entities']:\n",
    "                entities[e['end']] = e['type']\n",
    "            entities = to_ids(entities, ENTITY_TO_ID)\n",
    "\n",
    "            relations = []\n",
    "            for r in d['relations']:\n",
    "                curr = ['*'] * len(tokens)\n",
    "                curr[r['head']] = r['type'] + \"_arg1\"\n",
    "                curr[r['tail']] = r['type'] + \"_arg2\"\n",
    "\n",
    "                relations += [to_ids(curr, REL_TO_ID)]\n",
    "                \n",
    "            relations = relations[0]\n",
    "\n",
    "            processed += [(tokens, entities, relations)]\n",
    "                \n",
    "        return processed\n",
    "                \n",
    "    def __len__(self):\n",
    "        return len(self.data)\n",
    "    \n",
    "    def __getitem__(self, key):\n",
    "        if not isinstance(key, int):\n",
    "            raise TypeError\n",
    "        \n",
    "        if key < 0 or key >= self.__len__():\n",
    "            raise IndexError\n",
    "            \n",
    "        return list(zip(*self.data[key]))\n",
    "    \n",
    "    def __iter__(self):\n",
    "        for i in range(self.__len__()):\n",
    "            yield self.__getitem__(i)\n",
    "            \n",
    "def to_ids(tokens, vocab):\n",
    "    \"\"\" Maps a list of tokens to the corresponding ids given by the dictionary, vocab\"\"\"\n",
    "\n",
    "    ids = [vocab[t] if t in vocab else 0 for t in tokens]\n",
    "    return ids"
   ]
  },
  {
   "cell_type": "code",
   "execution_count": 4,
   "metadata": {},
   "outputs": [],
   "source": [
    "import torch\n",
    "\n",
    "class NER_Net(torch.nn.Module):\n",
    "    '''Simple Named Entity Recognition model'''\n",
    "\n",
    "    def __init__(self, vocab_size, num_classes, hidden_dim=50, embedding_dim=100):\n",
    "        super().__init__()\n",
    "\n",
    "        self.vocab_size = vocab_size\n",
    "        self.hidden_dim = hidden_dim\n",
    "        self.embedding_dim = embedding_dim\n",
    "\n",
    "        # layers\n",
    "        self.embedding = torch.nn.Embedding(self.vocab_size, self.embedding_dim)\n",
    "        self.embedding.weight = torch.nn.Parameter(vocab.vectors)\n",
    "        \n",
    "        self.lstm = torch.nn.LSTM(self.embedding_dim, self.hidden_dim, batch_first=True)\n",
    "        self.fc = torch.nn.Linear(self.hidden_dim, num_classes)\n",
    "\n",
    "        # Initialize fully connected layer\n",
    "        self.fc.bias.data.fill_(0)\n",
    "        torch.nn.init.xavier_uniform_(self.fc.weight, gain=1)\n",
    "\n",
    "    def forward(self, s):\n",
    "        s = self.embedding(s)   # dim: batch_size x batch_max_len x embedding_dim\n",
    "        s, _ = self.lstm(s)     # dim: batch_size x batch_max_len x lstm_hidden_dim\n",
    "        s = self.fc(s)          # dim: batch_size*batch_max_len x num_tags\n",
    "\n",
    "        return s\n",
    "    \n",
    "    \n",
    "class RE_Net(torch.nn.Module):\n",
    "    '''Simple Relation extraction model'''\n",
    "\n",
    "    def __init__(self, vocab_size, num_classes, hidden_dim=50, embedding_dim=100):\n",
    "        super().__init__()\n",
    "\n",
    "        self.vocab_size = vocab_size\n",
    "        self.hidden_dim = hidden_dim\n",
    "        self.embedding_dim = embedding_dim\n",
    "\n",
    "        # layers\n",
    "        self.embedding = torch.nn.Embedding(self.vocab_size, self.embedding_dim)\n",
    "        self.embedding.weight = torch.nn.Parameter(vocab.vectors)\n",
    "        \n",
    "        self.lstm = torch.nn.LSTM(self.embedding_dim, self.hidden_dim, batch_first=True)\n",
    "        self.fc = torch.nn.Linear(self.hidden_dim, num_classes)\n",
    "\n",
    "        # Initialize fully connected layer\n",
    "        self.fc.bias.data.fill_(0)\n",
    "        torch.nn.init.xavier_uniform_(self.fc.weight, gain=1)\n",
    "\n",
    "    def forward(self, s):\n",
    "        s = self.embedding(s)   # dim: batch_size x batch_max_len x embedding_dim\n",
    "        s, _ = self.lstm(s)     # dim: batch_size x batch_max_len x lstm_hidden_dim\n",
    "        s = self.fc(s)          # dim: batch_size*batch_max_len x num_tags\n",
    "\n",
    "        return s"
   ]
  },
  {
   "cell_type": "code",
   "execution_count": 5,
   "metadata": {},
   "outputs": [],
   "source": [
    "train = DataLoader(\"conll04_test.json\", vocab)"
   ]
  },
  {
   "cell_type": "code",
   "execution_count": 6,
   "metadata": {},
   "outputs": [],
   "source": [
    "datum = train[0]\n",
    "tokens = torch.tensor(datum[0])\n",
    "entities  =  torch.LongTensor([0, 0, 0, 0, 0, 0, 2, 0, 4, 0, 1, 0, 0, 0, 0, 0, 0, 4, 0, 0, 0, 0, 0])\n",
    "relations = torch.LongTensor([0, 0, 0, 0, 0, 0, 3, 0, 0, 0, 8, 0, 0, 0, 0, 0, 0, 0, 0, 0, 0, 0, 0])"
   ]
  },
  {
   "cell_type": "code",
   "execution_count": 7,
   "metadata": {},
   "outputs": [
    {
     "name": "stderr",
     "output_type": "stream",
     "text": [
      "/local/ahmedk/anaconda3/envs/pytorch_constraints/lib/python3.7/site-packages/ipykernel_launcher.py:14: UserWarning: This overload of nonzero is deprecated:\n",
      "\tnonzero()\n",
      "Consider using one of the following signatures instead:\n",
      "\tnonzero(*, bool as_tuple) (Triggered internally at  /opt/conda/conda-bld/pytorch_1595629403081/work/torch/csrc/utils/python_arg_parser.cpp:766.)\n",
      "  \n"
     ]
    },
    {
     "data": {
      "image/png": "[encoded data removed]",
      "text/plain": [
       "<Figure size 432x288 with 1 Axes>"
      ]
     },
     "metadata": {
      "needs_background": "light"
     },
     "output_type": "display_data"
    }
   ],
   "source": [
    "import torch\n",
    "import itertools\n",
    "import torch.nn.functional as F\n",
    "import sys\n",
    "sys.path.append(\"..\")\n",
    "\n",
    "from pytorch_constraints.constraint import constraint\n",
    "from pytorch_constraints.brute_force_solver import *\n",
    "from pytorch_constraints.sampling_solver import *\n",
    "# from pytorch_constraints.tnorm_solver import TNormLogicSolver\n",
    "\n",
    "def Org_in_Loc(ne, re):\n",
    "    \n",
    "    subj = (re==3).nonzero()\n",
    "    obj = (re==8).nonzero()\n",
    "    \n",
    "    return all(ne[subj] == 2) and all(ne[obj] == 1)\n",
    "    \n",
    "# Models\n",
    "ner = NER_Net(vocab_size=len(vocab), num_classes=len(ENTITY_TO_ID))\n",
    "re = RE_Net(vocab_size=len(vocab), num_classes=len(REL_TO_ID))\n",
    "\n",
    "# Optimization\n",
    "opt = torch.optim.SGD(list(ner.parameters()) + list(re.parameters()), lr=1.0)\n",
    "\n",
    "# # Plotting\n",
    "# plot = PlotHelper()\n",
    "plot_loss = PlotHelper()\n",
    "\n",
    "cons = constraint(Org_in_Loc, WeightedSamplingSolver(num_samples=200))\n",
    "\n",
    "num_samples = 100\n",
    "for i in range(500):\n",
    "    opt.zero_grad()\n",
    "    \n",
    "    ner_logits = ner(tokens)\n",
    "    ner_logits = ner_logits.view(-1, ner_logits.shape[2])\n",
    "    \n",
    "    re_logits = re(tokens)\n",
    "    re_logits = re_logits.view(-1, re_logits.shape[2])\n",
    "    \n",
    "    \n",
    "    ner_loss = F.cross_entropy(ner_logits, entities.view(-1))\n",
    "    re_loss = F.cross_entropy(re_logits, relations.view(-1))\n",
    "    closs = cons(ner_logits, re_logits)\n",
    "    loss = re_loss + ner_loss + closs\n",
    "    \n",
    "    plot_loss.add(reloss=re_loss.data, neloss=ner_loss.data, closs=closs.data, loss=loss.data)\n",
    "    \n",
    "    loss.backward()\n",
    "    opt.step()\n",
    "    \n",
    "plot_loss.show()"
   ]
  },
  {
   "cell_type": "code",
   "execution_count": 8,
   "metadata": {},
   "outputs": [
    {
     "data": {
      "text/plain": [
       "tensor([0, 0, 0, 0, 0, 0, 3, 0, 0, 0, 8, 0, 0, 0, 0, 0, 0, 0, 0, 0, 0, 0, 0])"
      ]
     },
     "execution_count": 8,
     "metadata": {},
     "output_type": "execute_result"
    }
   ],
   "source": [
    "torch.argmax(torch.softmax(re(tokens).view(-1, 11), dim=-1), dim=-1)"
   ]
  },
  {
   "cell_type": "code",
   "execution_count": 9,
   "metadata": {},
   "outputs": [
    {
     "data": {
      "text/plain": [
       "tensor([0, 0, 0, 0, 0, 0, 2, 0, 4, 0, 1, 0, 0, 0, 0, 0, 0, 4, 0, 0, 0, 0, 0])"
      ]
     },
     "execution_count": 9,
     "metadata": {},
     "output_type": "execute_result"
    }
   ],
   "source": [
    "torch.argmax(torch.softmax(ner(tokens).view(-1, 5), dim=-1), dim=-1)"
   ]
  },
  {
   "cell_type": "code",
   "execution_count": null,
   "metadata": {},
   "outputs": [],
   "source": []
  }
 ],
 "metadata": {
  "kernelspec": {
   "display_name": "Python 3",
   "language": "python",
   "name": "python3"
  },
  "language_info": {
   "codemirror_mode": {
    "name": "ipython",
    "version": 3
   },
   "file_extension": ".py",
   "mimetype": "text/x-python",
   "name": "python",
   "nbconvert_exporter": "python",
   "pygments_lexer": "ipython3",
   "version": "3.7.7"
  }
 },
 "nbformat": 4,
 "nbformat_minor": 4
}
