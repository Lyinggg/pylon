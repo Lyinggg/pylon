{
 "cells": [
  {
   "cell_type": "code",
   "execution_count": 1,
   "metadata": {},
   "outputs": [],
   "source": [
    "import torch\n",
    "import sys\n",
    "\n",
    "sys.path.append(\"../pylon/\")\n",
    "from lazy_tensor import ConstLazyTensor, ConstShapedLazyTensor, LazyTensor "
   ]
  },
  {
   "cell_type": "code",
   "execution_count": 2,
   "metadata": {},
   "outputs": [],
   "source": [
    "def rand_tensor(dims, isBool=True):\n",
    "    \"\"\" Create a torch.Tensor instance\n",
    "    \n",
    "        dims: dimension\n",
    "        isBool: if it's a boolean tensor\n",
    "    \"\"\"\n",
    "    if isBool:\n",
    "        return torch.rand(dims) < .5\n",
    "    return torch.rand(dims)"
   ]
  },
  {
   "cell_type": "code",
   "execution_count": 3,
   "metadata": {},
   "outputs": [],
   "source": [
    "def print_all(lt, lt_parsed_tensor, rt):\n",
    "    assert torch.equal(lt_parsed_tensor, rt)\n",
    "    print(\"lt\\n\", lt, \"\\nParsed tensor of lt\\n\", lt_parsed_tensor, \"\\nrt\\n\", rt, \"\\n\")"
   ]
  },
  {
   "cell_type": "code",
   "execution_count": 4,
   "metadata": {},
   "outputs": [],
   "source": [
    "def parse_and_print(pn):\n",
    "    lt, rt = parse_pn(pn)\n",
    "    print_all(lt, lt.tensor(), rt)"
   ]
  },
  {
   "cell_type": "markdown",
   "metadata": {},
   "source": [
    "### Create a ConstLazyTensor"
   ]
  },
  {
   "cell_type": "code",
   "execution_count": 5,
   "metadata": {},
   "outputs": [
    {
     "name": "stdout",
     "output_type": "stream",
     "text": [
      "tensor([[False,  True, False],\n",
      "        [False,  True,  True]])\n",
      "ConstLazyTensor: value=\n",
      "tensor([[False,  True, False],\n",
      "        [False,  True,  True]])\n"
     ]
    }
   ],
   "source": [
    "t = rand_tensor((2,3), True)\n",
    "print(t)\n",
    "clt = ConstLazyTensor(t)\n",
    "print(clt)"
   ]
  },
  {
   "cell_type": "code",
   "execution_count": 6,
   "metadata": {},
   "outputs": [
    {
     "name": "stdout",
     "output_type": "stream",
     "text": [
      "tensor([[0.2268, 0.9003, 0.4085],\n",
      "        [0.4528, 0.6251, 0.9194]])\n",
      "ConstLazyTensor: value=\n",
      "tensor([[0.2268, 0.9003, 0.4085],\n",
      "        [0.4528, 0.6251, 0.9194]])\n"
     ]
    }
   ],
   "source": [
    "t = rand_tensor((2,3), False)\n",
    "print(t)\n",
    "clt = ConstLazyTensor(t)\n",
    "print(clt)"
   ]
  },
  {
   "cell_type": "markdown",
   "metadata": {},
   "source": [
    "All operators on ConstLazyTensor or ConstShapedLazyTensor creates a LazyTensor tree with correspending leaf nodes"
   ]
  },
  {
   "cell_type": "markdown",
   "metadata": {},
   "source": [
    "### Unary operator: not on ConstLazyTensor"
   ]
  },
  {
   "cell_type": "code",
   "execution_count": 7,
   "metadata": {},
   "outputs": [
    {
     "name": "stdout",
     "output_type": "stream",
     "text": [
      "ConstLazyTensor: value=\n",
      "tensor([[False, False, False],\n",
      "        [ True, False,  True]])\n",
      "LazyTensor:logical_not\n",
      "  ConstLazyTensor: value=\n",
      "tensor([[False, False, False],\n",
      "        [ True, False,  True]])\n",
      "\n"
     ]
    }
   ],
   "source": [
    "clt = ConstLazyTensor(rand_tensor((2,3), True))\n",
    "print(clt)\n",
    "lt = clt.logical_not()\n",
    "print(lt)"
   ]
  },
  {
   "cell_type": "markdown",
   "metadata": {},
   "source": [
    "### Binary operator on ConstLazyTensor_s creates a LazyTensor "
   ]
  },
  {
   "cell_type": "code",
   "execution_count": 8,
   "metadata": {},
   "outputs": [
    {
     "name": "stdout",
     "output_type": "stream",
     "text": [
      "LazyTensor:logical_and\n",
      "  ConstLazyTensor: value=\n",
      "tensor([[False,  True],\n",
      "        [ True,  True]])\n",
      "  ConstLazyTensor: value=\n",
      "tensor([[ True, False],\n",
      "        [False,  True]])\n",
      "\n"
     ]
    }
   ],
   "source": [
    "clt_0 = ConstLazyTensor(rand_tensor((2,2), True))\n",
    "clt_1 = ConstLazyTensor(rand_tensor((2,2), True))\n",
    "lt = clt_0.logical_and(clt_1)\n",
    "print(lt)"
   ]
  },
  {
   "cell_type": "code",
   "execution_count": 9,
   "metadata": {},
   "outputs": [
    {
     "name": "stdout",
     "output_type": "stream",
     "text": [
      "LazyTensor:logical_or\n",
      "  ConstLazyTensor: value=\n",
      "tensor([[False,  True],\n",
      "        [ True,  True]])\n",
      "  ConstLazyTensor: value=\n",
      "tensor([[ True, False],\n",
      "        [False,  True]])\n",
      "\n"
     ]
    }
   ],
   "source": [
    "lt = clt_0.logical_or(clt_1)\n",
    "print(lt)"
   ]
  },
  {
   "cell_type": "code",
   "execution_count": 10,
   "metadata": {},
   "outputs": [
    {
     "name": "stdout",
     "output_type": "stream",
     "text": [
      "LazyTensor:softmax\n",
      "  ConstLazyTensor: value=\n",
      "tensor([[-0.8621,  0.5877,  0.3988],\n",
      "        [-0.0379,  0.8082,  1.7811]])\n",
      "  -1\n",
      "\n"
     ]
    }
   ],
   "source": [
    "# softmax on dim = -1\n",
    "lt = ConstLazyTensor(torch.randn(2, 3)).softmax(-1)\n",
    "print(lt)"
   ]
  },
  {
   "cell_type": "markdown",
   "metadata": {},
   "source": [
    "## 2-level nested operators "
   ]
  },
  {
   "cell_type": "code",
   "execution_count": 11,
   "metadata": {},
   "outputs": [
    {
     "name": "stdout",
     "output_type": "stream",
     "text": [
      "LazyTensor:logical_and\n",
      "  LazyTensor:logical_and\n",
      "    ConstLazyTensor: value=\n",
      "tensor([[ True,  True],\n",
      "        [False,  True]])\n",
      "    ConstLazyTensor: value=\n",
      "tensor([[True, True],\n",
      "        [True, True]])\n",
      "\n",
      "  LazyTensor:logical_or\n",
      "    ConstLazyTensor: value=\n",
      "tensor([[ True,  True],\n",
      "        [False,  True]])\n",
      "    ConstLazyTensor: value=\n",
      "tensor([[True, True],\n",
      "        [True, True]])\n",
      "\n",
      "\n"
     ]
    }
   ],
   "source": [
    "clt_0 = ConstLazyTensor(rand_tensor((2,2), True))\n",
    "clt_1 = ConstLazyTensor(rand_tensor((2,2), True))\n",
    "lt_0 = clt_0.logical_and(clt_1)\n",
    "lt_1 = clt_0.logical_or(clt_1)\n",
    "nested_lt = lt_0.logical_and(lt_1)\n",
    "print(nested_lt)"
   ]
  },
  {
   "cell_type": "markdown",
   "metadata": {},
   "source": [
    "### 3-level nested"
   ]
  },
  {
   "cell_type": "code",
   "execution_count": 12,
   "metadata": {
    "scrolled": true
   },
   "outputs": [
    {
     "name": "stdout",
     "output_type": "stream",
     "text": [
      "LazyTensor:logical_not\n",
      "  LazyTensor:logical_and\n",
      "    LazyTensor:logical_and\n",
      "      ConstLazyTensor: value=\n",
      "tensor([[False,  True],\n",
      "        [ True, False]])\n",
      "      ConstLazyTensor: value=\n",
      "tensor([[False,  True],\n",
      "        [False,  True]])\n",
      "\n",
      "    LazyTensor:logical_or\n",
      "      ConstLazyTensor: value=\n",
      "tensor([[False,  True],\n",
      "        [ True, False]])\n",
      "      ConstLazyTensor: value=\n",
      "tensor([[False,  True],\n",
      "        [False,  True]])\n",
      "\n",
      "\n",
      "\n"
     ]
    }
   ],
   "source": [
    "clt_0 = ConstLazyTensor(rand_tensor((2,2), True))\n",
    "clt_1 = ConstLazyTensor(rand_tensor((2,2), True))\n",
    "lt_0 = clt_0.logical_and(clt_1)\n",
    "lt_1 = clt_0.logical_or(clt_1)\n",
    "nested_l2_lt = lt_0.logical_and(lt_1)\n",
    "nested_lt = nested_l2_lt.logical_not()\n",
    "print(nested_lt)"
   ]
  },
  {
   "cell_type": "markdown",
   "metadata": {},
   "source": [
    "### __getitem__  using [ ]"
   ]
  },
  {
   "cell_type": "code",
   "execution_count": 13,
   "metadata": {},
   "outputs": [
    {
     "data": {
      "text/plain": [
       "tensor(0.4089)"
      ]
     },
     "execution_count": 13,
     "metadata": {},
     "output_type": "execute_result"
    }
   ],
   "source": [
    "lt = ConstLazyTensor(rand_tensor((2), False))\n",
    "lt[1].tensor()"
   ]
  },
  {
   "cell_type": "code",
   "execution_count": 14,
   "metadata": {},
   "outputs": [],
   "source": [
    "lt = ConstLazyTensor(rand_tensor((3,5,4), False))"
   ]
  },
  {
   "cell_type": "code",
   "execution_count": 15,
   "metadata": {},
   "outputs": [
    {
     "name": "stdout",
     "output_type": "stream",
     "text": [
      "LazyTensor:__getitem__\n",
      "  ConstLazyTensor: value=\n",
      "tensor([[[0.1629, 0.6182, 0.3786, 0.9823],\n",
      "         [0.5548, 0.4734, 0.2662, 0.8199],\n",
      "         [0.8828, 0.2802, 0.3103, 0.1418],\n",
      "         [0.3761, 0.6347, 0.2251, 0.0356],\n",
      "         [0.9169, 0.9758, 0.3606, 0.7458]],\n",
      "\n",
      "        [[0.2239, 0.3474, 0.2259, 0.9240],\n",
      "         [0.5251, 0.8135, 0.8261, 0.5066],\n",
      "         [0.1127, 0.4026, 0.2899, 0.6820],\n",
      "         [0.3997, 0.9630, 0.5086, 0.9928],\n",
      "         [0.1767, 0.9564, 0.8949, 0.5115]],\n",
      "\n",
      "        [[0.9330, 0.0483, 0.9545, 0.0320],\n",
      "         [0.0517, 0.3617, 0.5920, 0.1433],\n",
      "         [0.3785, 0.8532, 0.7394, 0.7619],\n",
      "         [0.1519, 0.1175, 0.1724, 0.2888],\n",
      "         [0.3189, 0.3028, 0.7001, 0.5981]]])\n",
      "  1\n",
      " \n",
      "\n",
      " tensor([[0.2239, 0.3474, 0.2259, 0.9240],\n",
      "        [0.5251, 0.8135, 0.8261, 0.5066],\n",
      "        [0.1127, 0.4026, 0.2899, 0.6820],\n",
      "        [0.3997, 0.9630, 0.5086, 0.9928],\n",
      "        [0.1767, 0.9564, 0.8949, 0.5115]])\n"
     ]
    }
   ],
   "source": [
    "# single index\n",
    "print(lt[1], \"\\n\\n\", lt[1].tensor())"
   ]
  },
  {
   "cell_type": "code",
   "execution_count": 16,
   "metadata": {},
   "outputs": [
    {
     "name": "stdout",
     "output_type": "stream",
     "text": [
      "LazyTensor:__getitem__\n",
      "  ConstLazyTensor: value=\n",
      "tensor([[[0.1629, 0.6182, 0.3786, 0.9823],\n",
      "         [0.5548, 0.4734, 0.2662, 0.8199],\n",
      "         [0.8828, 0.2802, 0.3103, 0.1418],\n",
      "         [0.3761, 0.6347, 0.2251, 0.0356],\n",
      "         [0.9169, 0.9758, 0.3606, 0.7458]],\n",
      "\n",
      "        [[0.2239, 0.3474, 0.2259, 0.9240],\n",
      "         [0.5251, 0.8135, 0.8261, 0.5066],\n",
      "         [0.1127, 0.4026, 0.2899, 0.6820],\n",
      "         [0.3997, 0.9630, 0.5086, 0.9928],\n",
      "         [0.1767, 0.9564, 0.8949, 0.5115]],\n",
      "\n",
      "        [[0.9330, 0.0483, 0.9545, 0.0320],\n",
      "         [0.0517, 0.3617, 0.5920, 0.1433],\n",
      "         [0.3785, 0.8532, 0.7394, 0.7619],\n",
      "         [0.1519, 0.1175, 0.1724, 0.2888],\n",
      "         [0.3189, 0.3028, 0.7001, 0.5981]]])\n",
      "  (1, 4)\n",
      " \n",
      "\n",
      " tensor([0.1767, 0.9564, 0.8949, 0.5115])\n"
     ]
    }
   ],
   "source": [
    "# tuple of 2 indices\n",
    "print(lt[1,4], \"\\n\\n\", lt[1,4].tensor())"
   ]
  },
  {
   "cell_type": "code",
   "execution_count": 17,
   "metadata": {},
   "outputs": [
    {
     "name": "stdout",
     "output_type": "stream",
     "text": [
      "LazyTensor:__getitem__\n",
      "  ConstLazyTensor: value=\n",
      "tensor([[[0.1629, 0.6182, 0.3786, 0.9823],\n",
      "         [0.5548, 0.4734, 0.2662, 0.8199],\n",
      "         [0.8828, 0.2802, 0.3103, 0.1418],\n",
      "         [0.3761, 0.6347, 0.2251, 0.0356],\n",
      "         [0.9169, 0.9758, 0.3606, 0.7458]],\n",
      "\n",
      "        [[0.2239, 0.3474, 0.2259, 0.9240],\n",
      "         [0.5251, 0.8135, 0.8261, 0.5066],\n",
      "         [0.1127, 0.4026, 0.2899, 0.6820],\n",
      "         [0.3997, 0.9630, 0.5086, 0.9928],\n",
      "         [0.1767, 0.9564, 0.8949, 0.5115]],\n",
      "\n",
      "        [[0.9330, 0.0483, 0.9545, 0.0320],\n",
      "         [0.0517, 0.3617, 0.5920, 0.1433],\n",
      "         [0.3785, 0.8532, 0.7394, 0.7619],\n",
      "         [0.1519, 0.1175, 0.1724, 0.2888],\n",
      "         [0.3189, 0.3028, 0.7001, 0.5981]]])\n",
      "  (2, 3, 2)\n",
      " \n",
      "\n",
      " tensor(0.1724)\n"
     ]
    }
   ],
   "source": [
    "# tuple of 3 indices\n",
    "print(lt[2,3,2], \"\\n\\n\",lt[2,3,2].tensor())"
   ]
  },
  {
   "cell_type": "code",
   "execution_count": 18,
   "metadata": {},
   "outputs": [
    {
     "name": "stdout",
     "output_type": "stream",
     "text": [
      "LazyTensor:__getitem__\n",
      "  ConstLazyTensor: value=\n",
      "tensor([[[0.1629, 0.6182, 0.3786, 0.9823],\n",
      "         [0.5548, 0.4734, 0.2662, 0.8199],\n",
      "         [0.8828, 0.2802, 0.3103, 0.1418],\n",
      "         [0.3761, 0.6347, 0.2251, 0.0356],\n",
      "         [0.9169, 0.9758, 0.3606, 0.7458]],\n",
      "\n",
      "        [[0.2239, 0.3474, 0.2259, 0.9240],\n",
      "         [0.5251, 0.8135, 0.8261, 0.5066],\n",
      "         [0.1127, 0.4026, 0.2899, 0.6820],\n",
      "         [0.3997, 0.9630, 0.5086, 0.9928],\n",
      "         [0.1767, 0.9564, 0.8949, 0.5115]],\n",
      "\n",
      "        [[0.9330, 0.0483, 0.9545, 0.0320],\n",
      "         [0.0517, 0.3617, 0.5920, 0.1433],\n",
      "         [0.3785, 0.8532, 0.7394, 0.7619],\n",
      "         [0.1519, 0.1175, 0.1724, 0.2888],\n",
      "         [0.3189, 0.3028, 0.7001, 0.5981]]])\n",
      "  ...\n",
      " \n",
      "\n",
      " tensor([[[0.1629, 0.6182, 0.3786, 0.9823],\n",
      "         [0.5548, 0.4734, 0.2662, 0.8199],\n",
      "         [0.8828, 0.2802, 0.3103, 0.1418],\n",
      "         [0.3761, 0.6347, 0.2251, 0.0356],\n",
      "         [0.9169, 0.9758, 0.3606, 0.7458]],\n",
      "\n",
      "        [[0.2239, 0.3474, 0.2259, 0.9240],\n",
      "         [0.5251, 0.8135, 0.8261, 0.5066],\n",
      "         [0.1127, 0.4026, 0.2899, 0.6820],\n",
      "         [0.3997, 0.9630, 0.5086, 0.9928],\n",
      "         [0.1767, 0.9564, 0.8949, 0.5115]],\n",
      "\n",
      "        [[0.9330, 0.0483, 0.9545, 0.0320],\n",
      "         [0.0517, 0.3617, 0.5920, 0.1433],\n",
      "         [0.3785, 0.8532, 0.7394, 0.7619],\n",
      "         [0.1519, 0.1175, 0.1724, 0.2888],\n",
      "         [0.3189, 0.3028, 0.7001, 0.5981]]])\n"
     ]
    }
   ],
   "source": [
    "# 3 dots or Ellipsis\n",
    "print(lt[...], \"\\n\\n\", lt[...].tensor())"
   ]
  },
  {
   "cell_type": "markdown",
   "metadata": {},
   "source": [
    "### Boolean mask"
   ]
  },
  {
   "cell_type": "code",
   "execution_count": 19,
   "metadata": {},
   "outputs": [
    {
     "name": "stdout",
     "output_type": "stream",
     "text": [
      "tensor([[0.1699, 0.8443],\n",
      "        [0.1854, 0.5940]])\n",
      "tensor([[0.8036, 0.7753],\n",
      "        [0.9398, 0.2031]])\n"
     ]
    },
    {
     "data": {
      "text/plain": [
       "tensor([[False, False],\n",
       "        [False, False]])"
      ]
     },
     "execution_count": 19,
     "metadata": {},
     "output_type": "execute_result"
    }
   ],
   "source": [
    "y = rand_tensor((2,2), False)\n",
    "x = rand_tensor((2,2), False)\n",
    "print(y)\n",
    "print(x)\n",
    "x==1"
   ]
  },
  {
   "cell_type": "code",
   "execution_count": 22,
   "metadata": {},
   "outputs": [
    {
     "name": "stdout",
     "output_type": "stream",
     "text": [
      "LazyTensor:__getitem__\n",
      "  ConstLazyTensor: value=\n",
      "tensor([[0.1699, 0.8443],\n",
      "        [0.1854, 0.5940]])\n",
      "  LazyTensor:eq\n",
      "    ConstLazyTensor: value=\n",
      "tensor([[0.8036, 0.7753],\n",
      "        [0.9398, 0.2031]])\n",
      "    1\n",
      "\n",
      "\n",
      "\n",
      "LazyTensor:eq\n",
      "  LazyTensor:__getitem__\n",
      "    ConstLazyTensor: value=\n",
      "tensor([[0.1699, 0.8443],\n",
      "        [0.1854, 0.5940]])\n",
      "    LazyTensor:eq\n",
      "      ConstLazyTensor: value=\n",
      "tensor([[0.8036, 0.7753],\n",
      "        [0.9398, 0.2031]])\n",
      "      1\n",
      "\n",
      "\n",
      "  0\n",
      "\n"
     ]
    }
   ],
   "source": [
    "y_lt = ConstLazyTensor(y)\n",
    "x_lt = ConstLazyTensor(x)\n",
    "# y[x==1]\n",
    "print(y_lt[x_lt==1])\n",
    "print()\n",
    "print(y_lt[x_lt==1] == 0)"
   ]
  }
 ],
 "metadata": {
  "kernelspec": {
   "display_name": "Python 3",
   "language": "python",
   "name": "python3"
  },
  "language_info": {
   "codemirror_mode": {
    "name": "ipython",
    "version": 3
   },
   "file_extension": ".py",
   "mimetype": "text/x-python",
   "name": "python",
   "nbconvert_exporter": "python",
   "pygments_lexer": "ipython3",
   "version": "3.7.3"
  }
 },
 "nbformat": 4,
 "nbformat_minor": 4
}
